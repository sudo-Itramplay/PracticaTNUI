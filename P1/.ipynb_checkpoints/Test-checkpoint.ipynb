{
 "cells": [
  {
   "cell_type": "code",
   "execution_count": 15,
   "id": "fa8e1b66-987f-40cd-ba4f-568a24382ded",
   "metadata": {},
   "outputs": [],
   "source": [
    "import P1 as p\n",
    "import pandas as pd\n",
    "import numpy as np\n",
    "import matplotlib as plt\n"
   ]
  },
  {
   "cell_type": "markdown",
   "id": "2bcdc286-9da4-4361-8607-fa3ff11ed578",
   "metadata": {},
   "source": [
    "El teu script TNUI_py.py conté funcions d'anàlisi quantitativa. Fes-les servir per respondre a les següents preguntes.\n",
    "\n",
    "Tasques:\n",
    "\n",
    "   1 Calcula i mostra per pantalla el canvi percentual interanual total de viatges entre 2019-2020 i 2020-2021.\n",
    "\n",
    "   2 Obtén una taula que mostri el canvi percentual de viatges per nombre de passatgers entre els diferents anys.\n",
    "\n",
    "   3 Utilitza la funció analyze_pickup_dropoff_locations per obtenir un diccionari amb les mètriques clau sobre les localitzacions i mostra els resultats de manera clara.\n",
    "\n",
    "💡 Pista: Les funcions que necessitaràs són tnui.calculate_total_percentage_change(), tnui.calculate_percentage_change_per_passenger() i tnui.analyze_pickup_dropoff_locations()."
   ]
  },
  {
   "cell_type": "code",
   "execution_count": 20,
   "id": "ae1676ec-eadf-487f-b3af-2186ac3592ea",
   "metadata": {},
   "outputs": [
    {
     "name": "stdout",
     "output_type": "stream",
     "text": [
      "Iniciant la descàrrega de dades...\n",
      "Descàrrega de dades finalitzada.\n"
     ]
    },
    {
     "ename": "TypeError",
     "evalue": "calculate_total_percentage_change() missing 3 required positional arguments: 'df', 'year1', and 'year2'",
     "output_type": "error",
     "traceback": [
      "\u001b[0;31m---------------------------------------------------------------------------\u001b[0m",
      "\u001b[0;31mTypeError\u001b[0m                                 Traceback (most recent call last)",
      "Cell \u001b[0;32mIn[20], line 11\u001b[0m\n\u001b[1;32m      4\u001b[0m df \u001b[38;5;241m=\u001b[39m pd\u001b[38;5;241m.\u001b[39mconcat([p\u001b[38;5;241m.\u001b[39mclean_data(p\u001b[38;5;241m.\u001b[39mload_table(year, month), year, month)\n\u001b[1;32m      5\u001b[0m                 \u001b[38;5;28;01mfor\u001b[39;00m year \u001b[38;5;129;01min\u001b[39;00m p\u001b[38;5;241m.\u001b[39mYEARS\n\u001b[1;32m      6\u001b[0m                 \u001b[38;5;28;01mfor\u001b[39;00m month \u001b[38;5;129;01min\u001b[39;00m MONTHS],\n\u001b[1;32m      7\u001b[0m                 ignore_index\u001b[38;5;241m=\u001b[39m\u001b[38;5;28;01mTrue\u001b[39;00m, sort\u001b[38;5;241m=\u001b[39m\u001b[38;5;28;01mFalse\u001b[39;00m)\n\u001b[1;32m      8\u001b[0m df \u001b[38;5;241m=\u001b[39m p\u001b[38;5;241m.\u001b[39mpost_processing(df)\n\u001b[0;32m---> 11\u001b[0m \u001b[38;5;28mprint\u001b[39m(\u001b[43mp\u001b[49m\u001b[38;5;241;43m.\u001b[39;49m\u001b[43mcalculate_total_percentage_change\u001b[49m\u001b[43m(\u001b[49m\u001b[43m)\u001b[49m)\n",
      "\u001b[0;31mTypeError\u001b[0m: calculate_total_percentage_change() missing 3 required positional arguments: 'df', 'year1', and 'year2'"
     ]
    }
   ],
   "source": [
    "MONTHS=[ x for x in range(1,13)]\n",
    "\n",
    "p.download_data(p.YEARS)\n",
    "df = pd.concat([p.clean_data(p.load_table(year, month), year, month)\n",
    "                for year in p.YEARS\n",
    "                for month in MONTHS],\n",
    "                ignore_index=True, sort=False)\n",
    "df = p.post_processing(df)"
   ]
  },
  {
   "cell_type": "code",
   "execution_count": 22,
   "id": "5b32a423-1ed4-44d1-9dda-95dca6ff2a0b",
   "metadata": {},
   "outputs": [
    {
     "name": "stdout",
     "output_type": "stream",
     "text": [
      "-71.86139212701906\n",
      "22.793151793651568\n"
     ]
    }
   ],
   "source": [
    "\n",
    "print(p.calculate_total_percentage_change(df, 2019, 2020))\n",
    "print(p.calculate_total_percentage_change(df, 2020, 2021))"
   ]
  },
  {
   "cell_type": "code",
   "execution_count": 24,
   "id": "8671d08c-516b-46cc-ab85-13cf9f818f94",
   "metadata": {},
   "outputs": [
    {
     "name": "stdout",
     "output_type": "stream",
     "text": [
      "passenger_count        1.0        2.0        3.0        4.0        5.0  \\\n",
      "year                                                                     \n",
      "2019                   NaN        NaN        NaN        NaN        NaN   \n",
      "2020            -70.522230 -73.882157 -75.672354 -76.944444 -77.860043   \n",
      "2021             22.851227  31.210328  33.811090  17.627030  -5.744337   \n",
      "\n",
      "passenger_count        6.0  \n",
      "year                        \n",
      "2019                   NaN  \n",
      "2020            -76.687847  \n",
      "2021             -8.454003  \n"
     ]
    }
   ],
   "source": [
    "print( p.calculate_percentage_change_per_passenger(df))"
   ]
  },
  {
   "cell_type": "code",
   "execution_count": 26,
   "id": "4a6bc3d9-a6a7-4111-91d6-dc3f3dbdf688",
   "metadata": {},
   "outputs": [
    {
     "name": "stdout",
     "output_type": "stream",
     "text": [
      "{'top_pickup_locations': PULocationID\n",
      "237    61152\n",
      "236    55626\n",
      "161    53154\n",
      "186    46540\n",
      "162    46525\n",
      "Name: count, dtype: int64, 'average_passengers': PULocationID\n",
      "161    1.550175\n",
      "162    1.535798\n",
      "186    1.521057\n",
      "236    1.522795\n",
      "237    1.513573\n",
      "Name: passenger_count, dtype: float64, 'percentage_same_location_trips': np.float64(4.9859440439081295)}\n"
     ]
    }
   ],
   "source": [
    "print(p.analyze_pickup_dropoff_locations(df))"
   ]
  },
  {
   "cell_type": "code",
   "execution_count": null,
   "id": "4b6d09c4-17ea-4888-8063-55bdb6f12692",
   "metadata": {},
   "outputs": [],
   "source": []
  }
 ],
 "metadata": {
  "kernelspec": {
   "display_name": "Python 3 (ipykernel)",
   "language": "python",
   "name": "python3"
  },
  "language_info": {
   "codemirror_mode": {
    "name": "ipython",
    "version": 3
   },
   "file_extension": ".py",
   "mimetype": "text/x-python",
   "name": "python",
   "nbconvert_exporter": "python",
   "pygments_lexer": "ipython3",
   "version": "3.13.7"
  }
 },
 "nbformat": 4,
 "nbformat_minor": 5
}

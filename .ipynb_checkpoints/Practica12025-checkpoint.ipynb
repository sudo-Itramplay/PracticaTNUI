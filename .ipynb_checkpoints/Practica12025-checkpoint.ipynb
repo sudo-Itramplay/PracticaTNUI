{
 "cells": [
  {
   "cell_type": "markdown",
   "id": "8ef30a1a",
   "metadata": {
    "id": "8ef30a1a"
   },
   "source": [
    "# Pràctica 1:\n",
    "\n",
    "Nom dels alumnes del grup:\n",
    "\n",
    "# Anàlisi exploratòria de dades (EDA) & ús d'eines avançades de Python\n",
    "\n",
    "L'**anàlisi exploratòria de dades** (EDA, per les seves sigles en anglès, *Exploratory Data Analysis*) és un procés crític en la ciència de les dades que implica **explorar, resumir i visualitzar** les dades per a entendre les seves característiques principals. L'objectiu principal de l'EDA és revelar patrons, tendències i anomalies a partir de les dades, sense fer suposicions massa específiques o construir models massa complexes.\n",
    "\n",
    "Aquí teniu alguns dels elements més importants de l'anàlisi exploratòria de dades:\n",
    "\n",
    "+ **Visualització de dades**: A través de gràfics i gràfiques, es representen les dades per a veure distribucions, tendències i relacions. Això pot incloure histogrames, gràfics de barres, diagrames de dispersió, gràfics de caixa, etc.\n",
    "\n",
    "+ **Estadístiques descriptives**: Es calculen estadístiques com la mitjana, la mediana, la desviació estàndard i altres mesures resum per a descriure les característiques bàsiques de les variables.\n",
    "\n",
    "+ **Detecció d'anomalies**: Es busca identificar valors atípics o anòmals que puguin indicar errors o situacions especials en les dades.\n",
    "\n",
    "+ **Imputació de dades faltants**: Si les dades tenen buits o valors faltants, es pot decidir com omplir aquests buits de manera adequada.\n",
    "\n",
    "+ **Exploració de relacions**: Es busquen correlacions i relacions entre les diferents variables de les dades per a identificar connexions i dependencies.\n",
    "\n",
    "+ **Agrupació de dades**: Es divideixen les dades en subconjunts basats en certes característiques per a analitzar-les més detingudament.\n",
    "\n",
    "+ **Transformació de dades**: Es poden aplicar transformacions a les dades per a fer-les més adequades per a anàlisi posterior, com l'estandardització o la normalització.\n",
    "\n",
    "* **Selecció de característiques**: Si es treballa amb un conjunt de dades amb moltes variables, es pot realitzar una selecció de característiques per a reduir la complexitat i millorar l'eficiència de l'anàlisi.\n",
    "\n",
    "Python ofereix una àmplia gamma d'eines i biblioteques per a realitzar l'anàlisi exploratòria de dades (EDA). Algunes de les biblioteques més populars i útils són les següents:\n",
    "\n",
    "+ **NumPy**: NumPy és una biblioteca fonamental per a la computació científica en Python. Proporciona funcionalitats per a treballar amb matrius i vectors, la qual cosa és essencial per a l'anàlisi de dades.\n",
    "\n",
    "+ **Pandas**: Pandas és una biblioteca molt popular per a l'anàlisi de dades que ofereix estructures de dades com DataFrame i Series, que faciliten la manipulació i anàlisi de dades tabulars. Podeu utilitzar Pandas per a carregar, netejar i explorar les dades.\n",
    "\n",
    "+ **Matplotlib**: Matplotlib és una biblioteca per a la visualització de dades que us permet crear una àmplia gamma de gràfics i gràfiques personalitzades. És ideal per a crear histogrames, diagrames de dispersió, gràfics de barres i moltes altres representacions gràfiques.\n",
    "\n",
    "+ **Scipy**: SciPy és una biblioteca que amplia les funcionalitats de NumPy i proporciona eines addicionals per a l'anàlisi científic, inclosos estadístics i mètodes d'optimització.\n",
    "\n",
    "+ **Scikit-learn**: Si esteu interessats en l'aprenentatge automàtic, Scikit-learn és una biblioteca essencial que ofereix eines per a la classificació, regressió, agrupació i altres tasques d'aprenentatge automàtic. També conté eines per a la selecció de característiques.\n",
    "\n",
    "+ **Seaborn**: Seaborn és una biblioteca de visualització de dades basada en Matplotlib que simplifica la creació de gràfics estadístics atractius i informatius. És especialment útil per a la visualització de relacions i tendències en les dades."
   ]
  },
  {
   "cell_type": "markdown",
   "id": "9a858270",
   "metadata": {
    "id": "9a858270"
   },
   "source": [
    "## 0. Objectiu de la pràctica\n",
    "\n",
    "L'**objectiu d'aquesta pràctica** és aprendre com fer una exploració sobre un conjunt de dades real, que al final ens permeti obtenir la resposta a diverses preguntes.\n",
    "\n",
    "En aquesta pràctica explorarem les dades dels trajectes dels **taxis grocs de la ciutat de Nova York** durant varios anys.\n",
    "\n",
    "En finalitzar aquesta pràctica, haureu de ser capaços de respondre la pregunta següent de forma detallada:\n",
    "\n",
    "- **Com va afectar la pandèmia de la Covid l'ús dels taxis a Nova York?**\n",
    "\n",
    "Pere respondre aquesta pregunta tant genèrica, ho podem descomposar en preguntes més concretes:\n",
    "\n",
    "- Quina distribució d'encàrrecs segueixen els taxis i quina distància / durada tenen?\n",
    "- Quines són les zones on més/menys taxis s'agafen?\n",
    "- Quins horaris són els més usuals?\n",
    "- Quins dies de la setmana i del mes s'utilitzen més?\n",
    "- Etc."
   ]
  },
  {
   "cell_type": "markdown",
   "id": "87c0ff5e",
   "metadata": {
    "id": "87c0ff5e"
   },
   "source": [
    "### Instal·lació i importació de les llibreries necessàries\n",
    "\n",
    "A més a més de les llibreries comentades, farem servir aquests mòduls de Python:\n",
    "\n",
    "+ **PyArrow**: PyArrow és una biblioteca de Python que es fa servir per a l'intercanvi eficient de dades entre Python i altres llenguatges de programació, especialment C++ i Java. Aquesta biblioteca es desenvolupa com a part del projecte Apache Arrow, que és un projecte de codi obert dissenyat per a millorar el rendiment i la interoperabilitat de l'analítica de dades i les tecnologies relacionades. PyArrow permet la creació i la manipulació eficient de dades en forma de taules i columnes. PyArrow ofereix suport per a l'estrués similar a una taula de dades en altres llenguatges. Aquesta estructura de dades facilita l'organització i la manipulació de dades tabulars."
   ]
  },
  {
   "cell_type": "code",
   "execution_count": 1,
   "id": "b3c240c3",
   "metadata": {
    "id": "b3c240c3"
   },
   "outputs": [],
   "source": [
    "import pandas as pd\n",
    "import numpy as np\n",
    "import urllib.request\n",
    "import zipfile\n",
    "import os\n",
    "from tqdm import tqdm\n",
    "import pyarrow.parquet as pq"
   ]
  },
  {
   "cell_type": "code",
   "execution_count": 2,
   "id": "db7d0666",
   "metadata": {
    "id": "db7d0666"
   },
   "outputs": [],
   "source": [
    "import matplotlib as mpl\n",
    "import matplotlib.pyplot as plt\n",
    "%matplotlib inline"
   ]
  },
  {
   "cell_type": "markdown",
   "id": "7e48b62f-d76e-47c1-9153-2bbc1abd361a",
   "metadata": {
    "id": "7e48b62f-d76e-47c1-9153-2bbc1abd361a"
   },
   "source": [
    "## 1. Descàrrega de dades"
   ]
  },
  {
   "cell_type": "code",
   "execution_count": 3,
   "id": "02458c74",
   "metadata": {
    "id": "02458c74"
   },
   "outputs": [],
   "source": [
    "# Variables globals: els anys que estudiarem\n",
    "\n",
    "YEARS = [2019, 2020, 2021]"
   ]
  },
  {
   "cell_type": "code",
   "execution_count": 14,
   "id": "c6f194ca",
   "metadata": {
    "colab": {
     "base_uri": "https://localhost:8080/",
     "height": 49,
     "referenced_widgets": [
      "8155e604eba04c31adc9f9e6c9a8a211",
      "82d84131ba70460db0f1b6cdc1fc4f3a",
      "52543aabafcf442bbe1eacc522896ef3",
      "b66f43929ba54a86940a3cc655edb320",
      "079bb83789cd433e96cb603e63dd9cd1",
      "2cef17f7fdf349aa91e2ac530b4f183d",
      "4059586e5d47494cb1398f594049d279",
      "1aff0e8fbf1f4552a1fee50109bdb028",
      "2d2d8cf5f4e24ed488445bca31e23400",
      "b26f84abbe3045eaba1b72c49ff0a3c1",
      "86cf142e2fea40bcafdc3b447b118d0e"
     ]
    },
    "id": "c6f194ca",
    "outputId": "2bea8c47-82eb-4ee0-9fc2-0888708398ee",
    "tags": []
   },
   "outputs": [],
   "source": [
    "# Descàrrega de les dades: Trip Record Data\n",
    "# https://www1.nyc.gov/site/tlc/about/tlc-trip-record-data.page\n",
    "\n",
    "# Aquesta cel·la triga uns quants minuts a executar-se\n",
    "\n",
    "for year in YEARS:\n",
    "    if not os.path.exists(f'data/{year}'):\n",
    "        print(\"Descarregant:\", year)\n",
    "        os.makedirs(f'data/{year}', exist_ok=True)\n",
    "        for month in tqdm(range(1, 13)):\n",
    "            urllib.request.urlretrieve(f'https://d37ci6vzurychx.cloudfront.net/trip-data/yellow_tripdata_{year}-{month:02d}.parquet', f'data/{year}/{month:02d}.parquet')"
   ]
  },
  {
   "cell_type": "markdown",
   "id": "20c3c6d0",
   "metadata": {
    "id": "20c3c6d0"
   },
   "source": [
    "## 2. Neteja de dades\n",
    "\n",
    "Per tal de tenir unes dades netes i útils, eliminarem totes aquells trajectes (files del conjunt de dades)  que continguin informació *corrupte*. Per exemple, cal verificar que no es dóna cap d'aquests casos:\n",
    "\n",
    "- Presència de *missing data* (camps/columnes de les dades sense valor).\n",
    "- L'hora de recollida és posterior a la finalització del trajecte.\n",
    "- Hi ha viatges amb un nombre absurd de passatgers?\n",
    "- Hi ha viatges massa llargs o massa curts?\n",
    "- Hi ha pagaments negatius?\n",
    "- Etc.\n",
    "\n",
    "A més a més, hem de considerar aspectes concrets d'aquestes dades:\n",
    "\n",
    "+ Hi pot haver viatges impossibles segons la normativa. Consulteu la normativa i afegiu les verificacions que corresponguin:\n",
    "    + [Més viatgers que els permesos](https://www1.nyc.gov/site/tlc/passengers/passenger-frequently-asked-questions.page) o [velocitats il·legals](https://www.speed-limits.com/newyork).\n",
    "    + [Limit de persones permeses a un yellow taxicab](https://drive.google.com/file/d/1eiV7wdm7WrkRlM9bmekCRM6GY3Yq6GI2/view?usp=sharing)"
   ]
  },
  {
   "cell_type": "markdown",
   "id": "31df86a1",
   "metadata": {
    "id": "31df86a1"
   },
   "source": [
    "De totes les columnes que tenen les dades, **només considerarem les següents per contestar les preguntes:\n",
    "\n",
    "- *tpep_pickup_datetime*: The date and time when the meter was engaged.\n",
    "- *tpep_dropoff_datetime*: The date and time when the meter was disengaged.\n",
    "- *Passenger_count*: The number of passengers in the vehicle.\n",
    "- *Trip_distance*: The elapsed trip distance in miles reported by the taximeter.\n",
    "- *PULocationID*: TLC Taxi Zone in which the taximeter was engaged\n",
    "- *DOLocationID*: TLC Taxi Zone in which the taximeter was disengaged\n",
    "- *Payment_type*: A numeric code signifying how the passenger paid for the trip.\n",
    "    - 1= Credit card\n",
    "    - 2= Cash\n",
    "    - 3= No charge\n",
    "    - 4= Dispute\n",
    "    - 5= Unknown\n",
    "    - 6= Voided trip\n",
    "- *Fare_amount*: The time-and-distance fare calculated by the meter.\n",
    "- *Total_amount*: The total amount charged to passengers."
   ]
  },
  {
   "cell_type": "code",
   "execution_count": 35,
   "id": "98a17743",
   "metadata": {
    "colab": {
     "base_uri": "https://localhost:8080/"
    },
    "id": "98a17743",
    "outputId": "4efc3c58-e1a0-44fa-a6b9-bd51d9a180b2"
   },
   "outputs": [
    {
     "data": {
      "text/plain": [
       "(76967, 9)"
      ]
     },
     "execution_count": 35,
     "metadata": {},
     "output_type": "execute_result"
    }
   ],
   "source": [
    "# Carreguem les dades a un dataframe de pandas\n",
    "# Per agilitzar els càlculs i reduir el temps de càlcul durant el desenvolupament i\n",
    "# eliminem les columnes que no són útils\n",
    "\n",
    "# Per desenvolupar el codi podem treballar amb una mostra\n",
    "# uniforme de les dades (en principi, 1 fila de cada 100).\n",
    "\n",
    "def load_table(year, month, sampling = 100):\n",
    "    \"\"\"\n",
    "    Funció que llegeix les dades descarregades i les converteix a un DataFrame\n",
    "    \"\"\"\n",
    "    data = pq.read_table(f'data/{year}/{str(month).zfill(2)}.parquet').to_pandas()\n",
    "    required_data = ['tpep_pickup_datetime',\n",
    "                 'tpep_dropoff_datetime',\n",
    "                 'passenger_count',\n",
    "                 'trip_distance',\n",
    "                 'PULocationID',\n",
    "                 'DOLocationID',\n",
    "                 'payment_type',\n",
    "                 'fare_amount',\n",
    "                 'total_amount']\n",
    "    return data[required_data][::sampling]\n",
    "\n",
    "# explorem una mica les dades\n",
    "test = load_table(2019, 1)\n",
    "test.shape"
   ]
  },
  {
   "cell_type": "code",
   "execution_count": 36,
   "id": "141c1aec-cd63-4657-a37a-39cac5cfa945",
   "metadata": {
    "colab": {
     "base_uri": "https://localhost:8080/",
     "height": 383
    },
    "id": "141c1aec-cd63-4657-a37a-39cac5cfa945",
    "outputId": "9a3c18ee-f40e-4e29-a0d4-40d06090e956"
   },
   "outputs": [
    {
     "data": {
      "text/html": [
       "<div>\n",
       "<style scoped>\n",
       "    .dataframe tbody tr th:only-of-type {\n",
       "        vertical-align: middle;\n",
       "    }\n",
       "\n",
       "    .dataframe tbody tr th {\n",
       "        vertical-align: top;\n",
       "    }\n",
       "\n",
       "    .dataframe thead th {\n",
       "        text-align: right;\n",
       "    }\n",
       "</style>\n",
       "<table border=\"1\" class=\"dataframe\">\n",
       "  <thead>\n",
       "    <tr style=\"text-align: right;\">\n",
       "      <th></th>\n",
       "      <th>tpep_pickup_datetime</th>\n",
       "      <th>tpep_dropoff_datetime</th>\n",
       "      <th>passenger_count</th>\n",
       "      <th>trip_distance</th>\n",
       "      <th>PULocationID</th>\n",
       "      <th>DOLocationID</th>\n",
       "      <th>payment_type</th>\n",
       "      <th>fare_amount</th>\n",
       "      <th>total_amount</th>\n",
       "    </tr>\n",
       "  </thead>\n",
       "  <tbody>\n",
       "    <tr>\n",
       "      <th>7695700</th>\n",
       "      <td>2019-01-30 22:40:39</td>\n",
       "      <td>2019-01-30 22:41:55</td>\n",
       "      <td>NaN</td>\n",
       "      <td>0.17</td>\n",
       "      <td>256</td>\n",
       "      <td>256</td>\n",
       "      <td>0</td>\n",
       "      <td>39.95</td>\n",
       "      <td>43.0</td>\n",
       "    </tr>\n",
       "    <tr>\n",
       "      <th>7695800</th>\n",
       "      <td>2019-01-31 06:58:00</td>\n",
       "      <td>2019-01-31 07:44:00</td>\n",
       "      <td>NaN</td>\n",
       "      <td>17.57</td>\n",
       "      <td>108</td>\n",
       "      <td>56</td>\n",
       "      <td>0</td>\n",
       "      <td>77.45</td>\n",
       "      <td>81.0</td>\n",
       "    </tr>\n",
       "    <tr>\n",
       "      <th>7695900</th>\n",
       "      <td>2019-01-31 07:46:00</td>\n",
       "      <td>2019-01-31 08:37:00</td>\n",
       "      <td>NaN</td>\n",
       "      <td>10.85</td>\n",
       "      <td>91</td>\n",
       "      <td>231</td>\n",
       "      <td>0</td>\n",
       "      <td>37.19</td>\n",
       "      <td>46.5</td>\n",
       "    </tr>\n",
       "    <tr>\n",
       "      <th>7696000</th>\n",
       "      <td>2019-01-31 09:00:00</td>\n",
       "      <td>2019-01-31 09:45:00</td>\n",
       "      <td>NaN</td>\n",
       "      <td>4.11</td>\n",
       "      <td>162</td>\n",
       "      <td>231</td>\n",
       "      <td>0</td>\n",
       "      <td>35.95</td>\n",
       "      <td>39.5</td>\n",
       "    </tr>\n",
       "    <tr>\n",
       "      <th>7696100</th>\n",
       "      <td>2019-01-31 11:18:35</td>\n",
       "      <td>2019-01-31 11:41:41</td>\n",
       "      <td>NaN</td>\n",
       "      <td>4.52</td>\n",
       "      <td>244</td>\n",
       "      <td>75</td>\n",
       "      <td>0</td>\n",
       "      <td>29.45</td>\n",
       "      <td>32.5</td>\n",
       "    </tr>\n",
       "    <tr>\n",
       "      <th>7696200</th>\n",
       "      <td>2019-01-31 14:01:00</td>\n",
       "      <td>2019-01-31 15:08:00</td>\n",
       "      <td>NaN</td>\n",
       "      <td>16.32</td>\n",
       "      <td>36</td>\n",
       "      <td>21</td>\n",
       "      <td>0</td>\n",
       "      <td>59.15</td>\n",
       "      <td>62.7</td>\n",
       "    </tr>\n",
       "    <tr>\n",
       "      <th>7696300</th>\n",
       "      <td>2019-01-31 15:35:00</td>\n",
       "      <td>2019-01-31 15:55:00</td>\n",
       "      <td>NaN</td>\n",
       "      <td>4.96</td>\n",
       "      <td>18</td>\n",
       "      <td>220</td>\n",
       "      <td>0</td>\n",
       "      <td>26.31</td>\n",
       "      <td>32.5</td>\n",
       "    </tr>\n",
       "    <tr>\n",
       "      <th>7696400</th>\n",
       "      <td>2019-01-31 17:11:00</td>\n",
       "      <td>2019-01-31 18:05:00</td>\n",
       "      <td>NaN</td>\n",
       "      <td>14.78</td>\n",
       "      <td>107</td>\n",
       "      <td>130</td>\n",
       "      <td>0</td>\n",
       "      <td>50.69</td>\n",
       "      <td>60.0</td>\n",
       "    </tr>\n",
       "    <tr>\n",
       "      <th>7696500</th>\n",
       "      <td>2019-01-31 18:33:00</td>\n",
       "      <td>2019-01-31 18:58:00</td>\n",
       "      <td>NaN</td>\n",
       "      <td>8.80</td>\n",
       "      <td>107</td>\n",
       "      <td>69</td>\n",
       "      <td>0</td>\n",
       "      <td>39.45</td>\n",
       "      <td>43.0</td>\n",
       "    </tr>\n",
       "    <tr>\n",
       "      <th>7696600</th>\n",
       "      <td>2019-01-31 23:31:07</td>\n",
       "      <td>2019-01-31 23:51:40</td>\n",
       "      <td>NaN</td>\n",
       "      <td>9.17</td>\n",
       "      <td>140</td>\n",
       "      <td>47</td>\n",
       "      <td>0</td>\n",
       "      <td>43.45</td>\n",
       "      <td>46.5</td>\n",
       "    </tr>\n",
       "  </tbody>\n",
       "</table>\n",
       "</div>"
      ],
      "text/plain": [
       "        tpep_pickup_datetime tpep_dropoff_datetime  passenger_count  \\\n",
       "7695700  2019-01-30 22:40:39   2019-01-30 22:41:55              NaN   \n",
       "7695800  2019-01-31 06:58:00   2019-01-31 07:44:00              NaN   \n",
       "7695900  2019-01-31 07:46:00   2019-01-31 08:37:00              NaN   \n",
       "7696000  2019-01-31 09:00:00   2019-01-31 09:45:00              NaN   \n",
       "7696100  2019-01-31 11:18:35   2019-01-31 11:41:41              NaN   \n",
       "7696200  2019-01-31 14:01:00   2019-01-31 15:08:00              NaN   \n",
       "7696300  2019-01-31 15:35:00   2019-01-31 15:55:00              NaN   \n",
       "7696400  2019-01-31 17:11:00   2019-01-31 18:05:00              NaN   \n",
       "7696500  2019-01-31 18:33:00   2019-01-31 18:58:00              NaN   \n",
       "7696600  2019-01-31 23:31:07   2019-01-31 23:51:40              NaN   \n",
       "\n",
       "         trip_distance  PULocationID  DOLocationID  payment_type  fare_amount  \\\n",
       "7695700           0.17           256           256             0        39.95   \n",
       "7695800          17.57           108            56             0        77.45   \n",
       "7695900          10.85            91           231             0        37.19   \n",
       "7696000           4.11           162           231             0        35.95   \n",
       "7696100           4.52           244            75             0        29.45   \n",
       "7696200          16.32            36            21             0        59.15   \n",
       "7696300           4.96            18           220             0        26.31   \n",
       "7696400          14.78           107           130             0        50.69   \n",
       "7696500           8.80           107            69             0        39.45   \n",
       "7696600           9.17           140            47             0        43.45   \n",
       "\n",
       "         total_amount  \n",
       "7695700          43.0  \n",
       "7695800          81.0  \n",
       "7695900          46.5  \n",
       "7696000          39.5  \n",
       "7696100          32.5  \n",
       "7696200          62.7  \n",
       "7696300          32.5  \n",
       "7696400          60.0  \n",
       "7696500          43.0  \n",
       "7696600          46.5  "
      ]
     },
     "execution_count": 36,
     "metadata": {},
     "output_type": "execute_result"
    }
   ],
   "source": [
    "# visualitzem algunes dades\n",
    "test.tail(10)"
   ]
  },
  {
   "cell_type": "markdown",
   "id": "99b367ec",
   "metadata": {
    "id": "99b367ec"
   },
   "source": [
    "###  Exercici A\n",
    "\n",
    "+ Un cop llegides les dades a una taula de Pandas, implementa una funció que faci el procés de neteja que consideris necessari. Per determinar què és necessari, **explora** els valors que apareixen a cada columna del dataframe de Pandas i decideix què cal fer. Per exemple: eliminar les files on falten dades, eliminar les files amb pickup_datetime or dropoff_datetime que no es corresponen, eliminar les files amb 0 passatgers o amb més passatgers que els que permet la normativa, eliminar les files on les zones de taxis a NY no estiguin entre la 1 a la 263, eliminar les files amb pagaments negatius, etc.\n",
    "\n",
    "> *Nota: Les columnes `Datatime` són un subtipus de dades de Pandas anomenades `datetime`.  Busca com tractar de forma eficient aquest tipus de dades en Pandas.*"
   ]
  },
  {
   "cell_type": "code",
   "execution_count": 37,
   "id": "1e521108",
   "metadata": {
    "colab": {
     "base_uri": "https://localhost:8080/"
    },
    "id": "1e521108",
    "outputId": "0668e50c-7b7d-4cb4-bb3f-ba9bc2fa2c03",
    "tags": []
   },
   "outputs": [
    {
     "data": {
      "text/plain": [
       "(72895, 9)"
      ]
     },
     "execution_count": 37,
     "metadata": {},
     "output_type": "execute_result"
    }
   ],
   "source": [
    "def velocitat_mitja(pickup, dropoff, distance) -> float:\n",
    "    temps = (dropoff-pickup).total_seconds() / 3600\n",
    "    if temps == 0:\n",
    "        return 66\n",
    "    velocitat = distance/temps\n",
    "    return velocitat\n",
    "\n",
    "def clean_data(data: pd.DataFrame, year: int, month: int) -> pd.DataFrame:\n",
    "    \"\"\"\n",
    "    Funció que neteja (una mostra de) les dades per un mes donat.\n",
    "    \"\"\"\n",
    "\n",
    "    # AQUÍ EL TEU CODI\n",
    "\n",
    "    data = data.dropna()\n",
    "    \n",
    "    data = data[data[\"tpep_pickup_datetime\"] < data[\"tpep_dropoff_datetime\"]]\n",
    "\n",
    "    data = data[(data[\"passenger_count\"] > 0) & (data[\"passenger_count\"] < 7)]\n",
    "\n",
    "    data = data[data[\"trip_distance\"] > 0]\n",
    "\n",
    "    data = data[((data[\"PULocationID\"] > 0) & (data[\"PULocationID\"] < 264))\n",
    "            & ((data[\"DOLocationID\"] > 0) & (data[\"DOLocationID\"] < 264))]\n",
    "\n",
    "    data = data[(data[\"payment_type\"] == 1) | (data[\"payment_type\"] == 2)]\n",
    "\n",
    "    data = data[(data[\"fare_amount\"] < data[\"total_amount\"])\n",
    "            & ((data[\"fare_amount\"] > 0) & (data[\"total_amount\"] > 0))]\n",
    "\n",
    "    data = data[(data[\"tpep_pickup_datetime\"].dt.year == year)\n",
    "            & (data[\"tpep_pickup_datetime\"].dt.month == month)\n",
    "            & (data[\"tpep_dropoff_datetime\"].dt.year == year)\n",
    "            & (data[\"tpep_dropoff_datetime\"].dt.month == month)]\n",
    "\n",
    "    data = data[\n",
    "            data.apply(\n",
    "                lambda x: velocitat_mitja(\n",
    "                    x[\"tpep_pickup_datetime\"],\n",
    "                    x[\"tpep_dropoff_datetime\"],\n",
    "                    x[\"trip_distance\"]) < 66, axis = 1)]\n",
    "\n",
    "    return data\n",
    "\n",
    "test = clean_data(test, 2019,1)\n",
    "\n",
    "# el nombre de registres que queden ha de ser al voltant dels 62.000\n",
    "test.shape"
   ]
  },
  {
   "cell_type": "code",
   "execution_count": 38,
   "id": "92bf0adf-163a-43d1-8bce-f46b05a7eba1",
   "metadata": {
    "colab": {
     "base_uri": "https://localhost:8080/",
     "height": 226
    },
    "id": "92bf0adf-163a-43d1-8bce-f46b05a7eba1",
    "outputId": "f73ed814-a469-471a-cb4c-533648be66dd"
   },
   "outputs": [
    {
     "data": {
      "text/html": [
       "<div>\n",
       "<style scoped>\n",
       "    .dataframe tbody tr th:only-of-type {\n",
       "        vertical-align: middle;\n",
       "    }\n",
       "\n",
       "    .dataframe tbody tr th {\n",
       "        vertical-align: top;\n",
       "    }\n",
       "\n",
       "    .dataframe thead th {\n",
       "        text-align: right;\n",
       "    }\n",
       "</style>\n",
       "<table border=\"1\" class=\"dataframe\">\n",
       "  <thead>\n",
       "    <tr style=\"text-align: right;\">\n",
       "      <th></th>\n",
       "      <th>tpep_pickup_datetime</th>\n",
       "      <th>tpep_dropoff_datetime</th>\n",
       "      <th>passenger_count</th>\n",
       "      <th>trip_distance</th>\n",
       "      <th>PULocationID</th>\n",
       "      <th>DOLocationID</th>\n",
       "      <th>payment_type</th>\n",
       "      <th>fare_amount</th>\n",
       "      <th>total_amount</th>\n",
       "    </tr>\n",
       "  </thead>\n",
       "  <tbody>\n",
       "    <tr>\n",
       "      <th>7667300</th>\n",
       "      <td>2019-01-31 23:52:01</td>\n",
       "      <td>2019-01-31 23:57:25</td>\n",
       "      <td>1.0</td>\n",
       "      <td>1.20</td>\n",
       "      <td>142</td>\n",
       "      <td>239</td>\n",
       "      <td>1</td>\n",
       "      <td>6.5</td>\n",
       "      <td>9.36</td>\n",
       "    </tr>\n",
       "    <tr>\n",
       "      <th>7667400</th>\n",
       "      <td>2019-01-31 15:31:51</td>\n",
       "      <td>2019-01-31 15:43:41</td>\n",
       "      <td>3.0</td>\n",
       "      <td>1.62</td>\n",
       "      <td>186</td>\n",
       "      <td>161</td>\n",
       "      <td>1</td>\n",
       "      <td>9.5</td>\n",
       "      <td>13.50</td>\n",
       "    </tr>\n",
       "    <tr>\n",
       "      <th>7667600</th>\n",
       "      <td>2019-01-31 23:13:39</td>\n",
       "      <td>2019-01-31 23:19:36</td>\n",
       "      <td>1.0</td>\n",
       "      <td>2.19</td>\n",
       "      <td>142</td>\n",
       "      <td>151</td>\n",
       "      <td>1</td>\n",
       "      <td>8.0</td>\n",
       "      <td>11.16</td>\n",
       "    </tr>\n",
       "    <tr>\n",
       "      <th>7667700</th>\n",
       "      <td>2019-01-31 18:44:20</td>\n",
       "      <td>2019-01-31 18:50:12</td>\n",
       "      <td>1.0</td>\n",
       "      <td>0.59</td>\n",
       "      <td>161</td>\n",
       "      <td>162</td>\n",
       "      <td>2</td>\n",
       "      <td>5.5</td>\n",
       "      <td>6.80</td>\n",
       "    </tr>\n",
       "    <tr>\n",
       "      <th>7667900</th>\n",
       "      <td>2019-01-31 23:32:17</td>\n",
       "      <td>2019-01-31 23:47:35</td>\n",
       "      <td>2.0</td>\n",
       "      <td>2.52</td>\n",
       "      <td>164</td>\n",
       "      <td>113</td>\n",
       "      <td>1</td>\n",
       "      <td>11.5</td>\n",
       "      <td>14.00</td>\n",
       "    </tr>\n",
       "  </tbody>\n",
       "</table>\n",
       "</div>"
      ],
      "text/plain": [
       "        tpep_pickup_datetime tpep_dropoff_datetime  passenger_count  \\\n",
       "7667300  2019-01-31 23:52:01   2019-01-31 23:57:25              1.0   \n",
       "7667400  2019-01-31 15:31:51   2019-01-31 15:43:41              3.0   \n",
       "7667600  2019-01-31 23:13:39   2019-01-31 23:19:36              1.0   \n",
       "7667700  2019-01-31 18:44:20   2019-01-31 18:50:12              1.0   \n",
       "7667900  2019-01-31 23:32:17   2019-01-31 23:47:35              2.0   \n",
       "\n",
       "         trip_distance  PULocationID  DOLocationID  payment_type  fare_amount  \\\n",
       "7667300           1.20           142           239             1          6.5   \n",
       "7667400           1.62           186           161             1          9.5   \n",
       "7667600           2.19           142           151             1          8.0   \n",
       "7667700           0.59           161           162             2          5.5   \n",
       "7667900           2.52           164           113             1         11.5   \n",
       "\n",
       "         total_amount  \n",
       "7667300          9.36  \n",
       "7667400         13.50  \n",
       "7667600         11.16  \n",
       "7667700          6.80  \n",
       "7667900         14.00  "
      ]
     },
     "execution_count": 38,
     "metadata": {},
     "output_type": "execute_result"
    }
   ],
   "source": [
    "# visualitzem algunes dades\n",
    "test.tail()"
   ]
  },
  {
   "cell_type": "markdown",
   "id": "181105ce",
   "metadata": {
    "id": "181105ce"
   },
   "source": [
    "###  Exercici B\n",
    "\n",
    "+ Escriu una funció que transformi una taula original a una nova taula, més adequada per tal de dur a terme l'exploració necessària. Podeu afegir columnes addicionals (per exemple, columnes per l'any o el mes), precalcular valors, etc.\n",
    "\n",
    "> Per exemple, podem transformar les dades per treballar amb les unitats de kilòmetres i hores per a representar les durades, distàncies i velocitats del trajecte. El motiu és, per una banda, que estem familiaritzades amb el Sistema Internacional d'Unitats (d'aquí el canvi de milles a km). I per altra, optar pels km i no pels metres degut a l'ordre de magnitud de les dades.\n",
    "\n",
    "> Un cop tenim les dades normalitzades i enriquides hem de pensar en la neteja una altra vegada. Per exemple: Eliminar aquelles files que tinguin velocitat max excedeixi limit permès per llei https://www.speed-limits.com/newyork"
   ]
  },
  {
   "cell_type": "code",
   "execution_count": 39,
   "id": "4876b59c",
   "metadata": {
    "colab": {
     "base_uri": "https://localhost:8080/"
    },
    "id": "4876b59c",
    "outputId": "69a0225f-0b82-4094-c2fd-68671367c3ca",
    "tags": []
   },
   "outputs": [
    {
     "name": "stdout",
     "output_type": "stream",
     "text": [
      "float64\n",
      "float64\n"
     ]
    },
    {
     "data": {
      "text/plain": [
       "(72895, 7)"
      ]
     },
     "execution_count": 39,
     "metadata": {},
     "output_type": "execute_result"
    }
   ],
   "source": [
    "def post_processing(data):\n",
    "    \"\"\"\n",
    "    Funció on implementar qualsevol tipus de postprocessament necessari.\n",
    "    \"\"\"\n",
    "    # AQUÍ EL TEU CODI\n",
    "\n",
    "    ##Després de mirar els diferents exercicis veiem que no ens interessa:\n",
    "    ##  Fareamount\n",
    "    ##  Totalamount\n",
    "    ##   Les distancies es volen en Km (milles x 1.60934 = Km)\n",
    "    ##  Potser volem dat i hores per separat\n",
    "\n",
    "    \n",
    "    # Primer fem les conversions\n",
    "    #He comprovat que el type float64 es manté\n",
    "    data[\"trip_distance\"] = ((data[\"trip_distance\"])*(1.60934))\n",
    "    \n",
    "    # Ara netejarem les columnes que no ens interessin\n",
    "    data.drop(columns=['fare_amount', 'total_amount', 'payment_type'], axis=1, inplace=True)\n",
    "    \n",
    "    return data\n",
    "\n",
    "test = post_processing(test)\n",
    "\n",
    "# el nombre de registres que queden ha de ser al voltant dels 58.000\n",
    "\n",
    "test.shape"
   ]
  },
  {
   "cell_type": "code",
   "execution_count": 40,
   "id": "465446cb-a5a0-41e7-9d51-90f1a692572f",
   "metadata": {},
   "outputs": [
    {
     "data": {
      "text/html": [
       "<div>\n",
       "<style scoped>\n",
       "    .dataframe tbody tr th:only-of-type {\n",
       "        vertical-align: middle;\n",
       "    }\n",
       "\n",
       "    .dataframe tbody tr th {\n",
       "        vertical-align: top;\n",
       "    }\n",
       "\n",
       "    .dataframe thead th {\n",
       "        text-align: right;\n",
       "    }\n",
       "</style>\n",
       "<table border=\"1\" class=\"dataframe\">\n",
       "  <thead>\n",
       "    <tr style=\"text-align: right;\">\n",
       "      <th></th>\n",
       "      <th>tpep_pickup_datetime</th>\n",
       "      <th>tpep_dropoff_datetime</th>\n",
       "      <th>passenger_count</th>\n",
       "      <th>trip_distance</th>\n",
       "      <th>PULocationID</th>\n",
       "      <th>DOLocationID</th>\n",
       "      <th>payment_type</th>\n",
       "    </tr>\n",
       "  </thead>\n",
       "  <tbody>\n",
       "    <tr>\n",
       "      <th>7667300</th>\n",
       "      <td>2019-01-31 23:52:01</td>\n",
       "      <td>2019-01-31 23:57:25</td>\n",
       "      <td>1.0</td>\n",
       "      <td>1.931208</td>\n",
       "      <td>142</td>\n",
       "      <td>239</td>\n",
       "      <td>1</td>\n",
       "    </tr>\n",
       "    <tr>\n",
       "      <th>7667400</th>\n",
       "      <td>2019-01-31 15:31:51</td>\n",
       "      <td>2019-01-31 15:43:41</td>\n",
       "      <td>3.0</td>\n",
       "      <td>2.607131</td>\n",
       "      <td>186</td>\n",
       "      <td>161</td>\n",
       "      <td>1</td>\n",
       "    </tr>\n",
       "    <tr>\n",
       "      <th>7667600</th>\n",
       "      <td>2019-01-31 23:13:39</td>\n",
       "      <td>2019-01-31 23:19:36</td>\n",
       "      <td>1.0</td>\n",
       "      <td>3.524455</td>\n",
       "      <td>142</td>\n",
       "      <td>151</td>\n",
       "      <td>1</td>\n",
       "    </tr>\n",
       "    <tr>\n",
       "      <th>7667700</th>\n",
       "      <td>2019-01-31 18:44:20</td>\n",
       "      <td>2019-01-31 18:50:12</td>\n",
       "      <td>1.0</td>\n",
       "      <td>0.949511</td>\n",
       "      <td>161</td>\n",
       "      <td>162</td>\n",
       "      <td>2</td>\n",
       "    </tr>\n",
       "    <tr>\n",
       "      <th>7667900</th>\n",
       "      <td>2019-01-31 23:32:17</td>\n",
       "      <td>2019-01-31 23:47:35</td>\n",
       "      <td>2.0</td>\n",
       "      <td>4.055537</td>\n",
       "      <td>164</td>\n",
       "      <td>113</td>\n",
       "      <td>1</td>\n",
       "    </tr>\n",
       "  </tbody>\n",
       "</table>\n",
       "</div>"
      ],
      "text/plain": [
       "        tpep_pickup_datetime tpep_dropoff_datetime  passenger_count  \\\n",
       "7667300  2019-01-31 23:52:01   2019-01-31 23:57:25              1.0   \n",
       "7667400  2019-01-31 15:31:51   2019-01-31 15:43:41              3.0   \n",
       "7667600  2019-01-31 23:13:39   2019-01-31 23:19:36              1.0   \n",
       "7667700  2019-01-31 18:44:20   2019-01-31 18:50:12              1.0   \n",
       "7667900  2019-01-31 23:32:17   2019-01-31 23:47:35              2.0   \n",
       "\n",
       "         trip_distance  PULocationID  DOLocationID  payment_type  \n",
       "7667300       1.931208           142           239             1  \n",
       "7667400       2.607131           186           161             1  \n",
       "7667600       3.524455           142           151             1  \n",
       "7667700       0.949511           161           162             2  \n",
       "7667900       4.055537           164           113             1  "
      ]
     },
     "execution_count": 40,
     "metadata": {},
     "output_type": "execute_result"
    }
   ],
   "source": [
    "#Per mirar si els valors s'han alterat corerctament\n",
    "# visualitzem algunes dades\n",
    "test.tail()"
   ]
  },
  {
   "cell_type": "markdown",
   "id": "be529b43",
   "metadata": {},
   "source": [
    "\n",
    "Inici:\n",
    "- A les files tenim cada viatge\n",
    "- A les columnes tenim:\n",
    "\n",
    "id , pickup , dropoff , num_passeng ,  trip_distance(milles) , txizonePU , txizoneDO , payment , fare(preu taximetre) , totalamount\n",
    "\n",
    "        --->El fare amount està calculat amb milles, però no sabem en quina proporcio, pq a cada viatge varia\n",
    "            --->Aquesta dada no es fa servir en cap problema\n",
    "\n",
    "\n",
    "Aquí apunto què demanen els exercicis:\n",
    "\n",
    "ExcC_1:\n",
    "\n",
    "any i num viatges\n",
    "\n",
    "ExcC_2:\n",
    "\n",
    "num passatgers\n",
    "\n",
    "exc4\n",
    "\n",
    "PU i DO\n",
    "\n",
    "exc 5\n",
    "\n",
    "Distàncies, velocitats\n",
    "\n",
    "\n",
    "**No es fa servir cap dels preus**\n",
    "\n",
    "\n"
   ]
  },
  {
   "cell_type": "code",
   "execution_count": null,
   "id": "a1cb68cf-e0b0-48df-97d9-50e889c80646",
   "metadata": {
    "colab": {
     "base_uri": "https://localhost:8080/",
     "height": 256
    },
    "id": "a1cb68cf-e0b0-48df-97d9-50e889c80646",
    "outputId": "2c0535c5-fe13-448b-e751-2d4f976159d4"
   },
   "outputs": [],
   "source": [
    "test.tail()"
   ]
  },
  {
   "cell_type": "markdown",
   "id": "2ab042d7",
   "metadata": {
    "id": "2ab042d7"
   },
   "source": [
    "Amb això podem crear un nou dataset (una única taula) que contingui tota la informació dels anys: 2019, 2020, 2021."
   ]
  },
  {
   "cell_type": "code",
   "execution_count": null,
   "id": "3e32168d",
   "metadata": {
    "colab": {
     "base_uri": "https://localhost:8080/",
     "height": 66,
     "referenced_widgets": [
      "4ec45df5c3934e509b7e95bbf577ffa0",
      "a39771dc4f0541ca913904277433f1cc",
      "d0687e4b93c349fbabaa9ef29a9a64b0",
      "9eb00b98030942e1b2a10d2b3e53aec5",
      "f17a686ffda147aa8afa1e9bcb2a3ba9",
      "48de3b2491554d3cbcdcc3dd79bf2992",
      "d923236a21dc47b1b5a9273312cf0332",
      "6032535191c445af820ca82ad7777994",
      "b6d4a00ef04e4b4fb3b88d30d69fbf88",
      "44438f0b767e49cbae8378d930ec74c3",
      "2bcc934e0eae425ba7c6fd656217dbf3",
      "1bf0fa5b1fec46c49ee0247e8234069d",
      "1f68151bf7f24ce4ad8f1ad95dca173e",
      "ba824d4c8b234168a972e932cb62a66a",
      "22d5402e15b84b62bea41c2b8f4bd6f5",
      "241470d9ce1d4cdd97b18fc00bd35df8",
      "cff5f82ace1b4534b1889b3bbb5a0fa0",
      "f49db9cd3af74135803aa5969d8d1f43",
      "5eabab1a96d44f5c8914f350b7a18a9a",
      "98b6a8ccdda74f168c92d7b9c63c52b7",
      "86376fb39410462da96ec9fe27210816",
      "c3011136a61d4c6faa53aaf6f961ed5d",
      "53353a655ca0473d985b96adf8f974e6",
      "36535324373b4cee9bce460d190c3b1f",
      "94cac0fe42694953911c38e51d015734",
      "3047186055bb45ccb30ecfcf21993b80",
      "760fc8b2cee1403e94ea28ea7e3ffae2",
      "464c3c0b0eed4b3198509c80c08467bf",
      "e100e0ea738944e8ab8ec163c5ebafb9",
      "f9fa4d6c226f440cb6898c555e704582",
      "313e8939bd1b4032a87b5c4c2ead2170",
      "459760064b0b4283bc8bc2e3a85b45d4",
      "3f3abcb0204847f3b7dce641c983b42c",
      "c4cc137419f34ab98441cea7a5e9a7df",
      "326e6b1be7d745cb94bb26ed037e2493",
      "b7f509413e24451ea1c74b1ebe1f802a",
      "53f934a345e3442fb1e77713d26bcf65",
      "5fd829ce87344f3c91ea4351528d89ce",
      "d206805f170c4d0080c167f227c51957",
      "e1040a864e9f4816ba5e8d8d496da0be",
      "16f7c0597be34013bf6313b899f774d4",
      "e7f0726e34664f28adc1a8134ae7c578",
      "d443e79500ca43d694d780107d722bf6",
      "fc08f1a8d0bb43d79767c04b2926d8f5"
     ]
    },
    "id": "3e32168d",
    "outputId": "8ab5b150-b80f-4001-e030-34e88ad3851f",
    "tags": []
   },
   "outputs": [],
   "source": [
    "df = pd.concat([clean_data(load_table(year, month), year, month)\n",
    "                for year in YEARS\n",
    "                for month in range(1, 13)],\n",
    "                ignore_index=True, sort=False)\n",
    "df = post_processing(df)\n",
    "\n",
    "# el nombre de registres que queden ha de ser al voltant dels 1.000.000\n",
    "\n",
    "df.shape"
   ]
  },
  {
   "cell_type": "code",
   "execution_count": null,
   "id": "3dc0a510",
   "metadata": {
    "colab": {
     "base_uri": "https://localhost:8080/",
     "height": 256
    },
    "id": "3dc0a510",
    "outputId": "50973d28-51e6-4691-e7ce-01f1c930b728"
   },
   "outputs": [],
   "source": [
    "df.head()"
   ]
  },
  {
   "cell_type": "markdown",
   "id": "50fa46a1",
   "metadata": {
    "id": "50fa46a1"
   },
   "source": [
    "## 3. Visualització de dades anuals"
   ]
  },
  {
   "cell_type": "markdown",
   "id": "d33507a6",
   "metadata": {
    "id": "d33507a6"
   },
   "source": [
    "Començarem l'anàlisi de les dades amb la següent pregunta: **S'ha incrementat o ha disminuït amb la covid la quantitat de viatges anuals fets amb taxis?**\n",
    "\n",
    "Per fer-ho, n'hi ha prou amb crear una figura de barres on es visualitzin la quantitat de viatges per any.\n",
    "\n",
    "### Exercici C\n",
    "\n",
    "+ Escriu una funció basada en `matplotlib` que generi aquesta gràfica."
   ]
  },
  {
   "cell_type": "code",
   "execution_count": null,
   "id": "2d1b8b94",
   "metadata": {
    "colab": {
     "base_uri": "https://localhost:8080/",
     "height": 487
    },
    "id": "2d1b8b94",
    "outputId": "fba6ee6e-3a27-467c-9dd2-67f23ed72a4d"
   },
   "outputs": [],
   "source": [
    "def bar_plot(df, column, xlabel, ylabel, title):\n",
    "    \"\"\"\n",
    "    Funció que crea una figura de barres a partir del dataframe i\n",
    "    la columna que conté la informació\n",
    "    \"\"\"\n",
    "\n",
    "    # AQUÍ EL TEU CODI\n",
    "    \n",
    "\n",
    "bar_plot(df,\n",
    "         'year',\n",
    "         'Any',\n",
    "         'Quantitat de viatges',\n",
    "         'Quantitat de viatges per any')"
   ]
  },
  {
   "cell_type": "markdown",
   "id": "b99c9da0-af61-4f67-8d84-b00b1cdb2a36",
   "metadata": {
    "id": "b99c9da0-af61-4f67-8d84-b00b1cdb2a36"
   },
   "source": [
    "+ Visualitza ara en tres gràfiques, el nombre de viatges per mesos de cada any, fent servir la funció anterior."
   ]
  },
  {
   "cell_type": "code",
   "execution_count": null,
   "id": "e7be6355",
   "metadata": {
    "colab": {
     "base_uri": "https://localhost:8080/",
     "height": 1000
    },
    "id": "e7be6355",
    "outputId": "461a9896-3a98-4a45-9cf2-7dfd4cc95a05"
   },
   "outputs": [],
   "source": [
    "# AQUÍ EL TEU CODI\n"
   ]
  },
  {
   "cell_type": "markdown",
   "id": "a6832559",
   "metadata": {
    "id": "a6832559"
   },
   "source": [
    "+ Pregunta:\n",
    "    + És el comportament que esperàveu? Explica la teva interpretació de les dades tenint en compte el que va passar al món durant aquests anys."
   ]
  },
  {
   "cell_type": "markdown",
   "id": "4fd24054",
   "metadata": {
    "id": "4fd24054"
   },
   "source": [
    "> Resposta\n",
    "\n",
    "> Sí: Veiem que el nombre de viatges va baixar durant 2020 en concret a partir del març. Després, el valor es va recuperant a poc a poc, pero encara està lluny d'assolir les xifres del 2019 i la primera part del 2020.\n",
    "\n",
    "> Per tant, creiem que el covid va tenir una influència clau en la quantitat de viatges de taxi fets a Nova York, reduint extremadament el valor."
   ]
  },
  {
   "cell_type": "markdown",
   "id": "9794e190",
   "metadata": {
    "id": "9794e190"
   },
   "source": [
    "+ Visualitza **quants passatgers hi ha per taxi i per any**. Crea una figura **amb tres subfigures** (una per any) on es pugui veure el recompte de passatgers per any.\n",
    "+ Després repetiu el mateix gràfic visualitzant el % enlloc dels nombres absoluts (utilitzeu el paràmetre *norm = True*)."
   ]
  },
  {
   "cell_type": "code",
   "execution_count": null,
   "id": "1a3093d3",
   "metadata": {
    "colab": {
     "base_uri": "https://localhost:8080/",
     "height": 366
    },
    "id": "1a3093d3",
    "outputId": "629bb78b-5147-4c73-fde8-979841ec72e2"
   },
   "outputs": [],
   "source": [
    "def passengers_taxi_year(df, ylim, xlabel, ylabel, title, norm = False):\n",
    "    \"\"\"\n",
    "    Funció que visualitza quants passatgers hi ha per taxi i per any\n",
    "    \"\"\"\n",
    "\n",
    "    # AQUÍ EL TEU CODI\n",
    "\n",
    "\n",
    "passengers_taxi_year(df,\n",
    "                     (0, 60000),\n",
    "                     'Nombre de passatgers',\n",
    "                     'Recompte de passatgers',\n",
    "                     'Recompte de passatgers per any')"
   ]
  },
  {
   "cell_type": "code",
   "execution_count": null,
   "id": "efca9289",
   "metadata": {
    "colab": {
     "base_uri": "https://localhost:8080/",
     "height": 372
    },
    "id": "efca9289",
    "outputId": "5f68d3f7-f117-472f-f256-a2353f1b5faf",
    "tags": []
   },
   "outputs": [],
   "source": [
    "# AQUÍ EL TEU CODI\n"
   ]
  },
  {
   "cell_type": "markdown",
   "id": "a8871d2c",
   "metadata": {
    "id": "a8871d2c"
   },
   "source": [
    "+ Com descriurieu de forma **qualitativa** l'efecte de la covid sobre els taxis en base a l'anàlisi fet fins ara?\n",
    "+ Podeu calcular de forma **quantitativa** la magnitud dels canvis que heu detectat? Escriviu una funció que calculi una sèrie d'indicadors quantitatius (per exemple, quin canvi percentual hi ha en el nombre de viatges d'una sola persona, la mitja de passatgers per viatge, etc.)."
   ]
  },
  {
   "cell_type": "markdown",
   "id": "22ffb557",
   "metadata": {
    "id": "22ffb557"
   },
   "source": [
    "> Respostes\n"
   ]
  },
  {
   "cell_type": "code",
   "execution_count": null,
   "id": "0d34f17a",
   "metadata": {
    "colab": {
     "base_uri": "https://localhost:8080/"
    },
    "id": "0d34f17a",
    "outputId": "afb479d8-38fc-4eba-9254-c51ab491c48c"
   },
   "outputs": [],
   "source": [
    "# AQUÍ EL TEU CODI\n"
   ]
  },
  {
   "cell_type": "markdown",
   "id": "f7e15df4",
   "metadata": {
    "id": "f7e15df4"
   },
   "source": [
    "> Resposta:\n",
    "\n"
   ]
  },
  {
   "cell_type": "markdown",
   "id": "15192e92",
   "metadata": {
    "id": "15192e92"
   },
   "source": [
    "## 4. Quantitat de viatges per diferents agregacions\n",
    "\n",
    "Fins ara hem vist la quantitat de viatges que hi ha hagut a nivell de mesos i anys.\n",
    "\n",
    "Ara podem estudiar l'efecte de la covid en el nombre de trajectes si **agreguem** les dades per hores, dies de la setmana, setmanes de l'any, etc.\n",
    "\n",
    "### Exercici D\n",
    "\n",
    "+ Escriu una única funció genèrica que visualitzi el nombre de trajectes per les agregacions de dades comentades i per cada any. Fes servir gràfics de línies discontínues (una línia per cada any) per veure'n l'evolució i marca amb una rodona o creu allà on està el valor."
   ]
  },
  {
   "cell_type": "code",
   "execution_count": null,
   "id": "a7600c12",
   "metadata": {
    "colab": {
     "base_uri": "https://localhost:8080/",
     "height": 366
    },
    "id": "a7600c12",
    "outputId": "edee1d99-8c33-4a79-b8ad-532640bdba92"
   },
   "outputs": [],
   "source": [
    "def visualize_trips(df, columns, title, xlabel, ylabel):\n",
    "    \"\"\"\n",
    "    Funció que visualitza els viatges per diferents agregacions de dades\n",
    "    \"\"\"\n",
    "\n",
    "    # AQUÍ EL TEU CODI\n",
    "\n",
    "\n",
    "visualize_trips(df,\n",
    "                ['pickup_hour', 'dropoff_hour'],\n",
    "                title = 'Quantitat de viatges per hora',\n",
    "                xlabel = 'Hora del dia', ylabel = 'Quantitat')"
   ]
  },
  {
   "cell_type": "code",
   "execution_count": null,
   "id": "07029682",
   "metadata": {
    "colab": {
     "base_uri": "https://localhost:8080/",
     "height": 366
    },
    "id": "07029682",
    "outputId": "595de788-dd52-44c8-bc5a-63beba4a6e17",
    "tags": []
   },
   "outputs": [],
   "source": [
    "visualize_trips(df,\n",
    "                ['pickup_day', 'dropoff_day'],\n",
    "                title = 'Quantitat de viatges per dia de la setmana',\n",
    "                xlabel = 'Dia de la setmana',\n",
    "                ylabel = 'Quantitat')"
   ]
  },
  {
   "cell_type": "code",
   "execution_count": null,
   "id": "e5dc11a6",
   "metadata": {
    "colab": {
     "base_uri": "https://localhost:8080/",
     "height": 366
    },
    "id": "e5dc11a6",
    "outputId": "f3a3f259-eac2-45a9-8df8-08f1fbd1a0d6",
    "tags": []
   },
   "outputs": [],
   "source": [
    "visualize_trips(df,\n",
    "                ['pickup_week', 'dropoff_week'],\n",
    "                title = 'Quantitat de viatges per setmana de l\\'any',\n",
    "                xlabel = 'Setmana de l\\'any',\n",
    "                ylabel = 'Quanitat')"
   ]
  },
  {
   "cell_type": "markdown",
   "id": "5a5c0cf9",
   "metadata": {
    "id": "5a5c0cf9"
   },
   "source": [
    "+ Com descriurieu l'efecte de la covid en cada cas (si és que en té)? Quin creieu que és el motiu?"
   ]
  },
  {
   "cell_type": "markdown",
   "id": "a9897a2a",
   "metadata": {
    "id": "a9897a2a"
   },
   "source": [
    "> Resposta:\n"
   ]
  },
  {
   "cell_type": "markdown",
   "id": "3878afdf",
   "metadata": {
    "id": "3878afdf"
   },
   "source": [
    "## 5. Relació distancia, temps i velocitat\n",
    "\n",
    "A les dades tenim la **distància** que ha recorregut el taxi en cada viatge i de la informació temporal podem extreure també la **durada** d'aquest.\n",
    "\n",
    "Ara explorarem com la covid va afectar les distàncies i les durades dels viatges, i també la velocitat dels taxis. També ens preguntarem si la densitat de trànsit va variar."
   ]
  },
  {
   "cell_type": "markdown",
   "id": "c3911075",
   "metadata": {
    "id": "c3911075"
   },
   "source": [
    "### Exercici E\n",
    "\n",
    "+ Per començar, escriu una funció que visualitzi els **histogrames** de distància i durada per any."
   ]
  },
  {
   "cell_type": "code",
   "execution_count": null,
   "id": "de3b0854",
   "metadata": {
    "colab": {
     "base_uri": "https://localhost:8080/",
     "height": 1000
    },
    "id": "de3b0854",
    "outputId": "524ff4a2-b8be-4261-a241-52a96391c2b1"
   },
   "outputs": [],
   "source": [
    "def visualize_histograms(df, column, title, xlabel, ylabel, xlim):\n",
    "    \"\"\"\n",
    "    Funció que crea un histograma a partir de la informació que conté la columna del dataframe\n",
    "    \"\"\"\n",
    "\n",
    "    # AQUÍ EL TEU CODI\n",
    "\n",
    "\n",
    "visualize_histograms(df, 'trip_distance', title = 'Distància dels viatge per any',\n",
    "                     xlabel = 'Distància (km)', ylabel = 'Quantitat', xlim = (-5, 80))\n",
    "\n",
    "visualize_histograms(df, 'trip_duration', title = 'Durada dels viatges per any',\n",
    "                     xlabel = 'Durada (h)', ylabel = 'Quantitat', xlim = (-1, 25) )\n",
    "\n",
    "visualize_histograms(df, 'speed', title = 'Velocitat dels viatge per any',\n",
    "                     xlabel = 'Velocitat (Km/h)', ylabel = 'Quanitat', xlim = (-1, 25) )"
   ]
  },
  {
   "cell_type": "markdown",
   "id": "8111f857",
   "metadata": {
    "id": "8111f857"
   },
   "source": [
    "* Com creieu que la covid va afectar les distàncies i durades dels viatges?\n",
    "\n",
    "* I a la velocitat dels taxis?"
   ]
  },
  {
   "cell_type": "markdown",
   "id": "fd7a161a",
   "metadata": {
    "id": "fd7a161a"
   },
   "source": [
    "> Resposta:\n"
   ]
  },
  {
   "cell_type": "markdown",
   "id": "L0S8KOKFNMt0",
   "metadata": {
    "id": "L0S8KOKFNMt0"
   },
   "source": [
    "+ velocitat mitja per hora"
   ]
  },
  {
   "cell_type": "code",
   "execution_count": null,
   "id": "7KkhqmTYNPcb",
   "metadata": {
    "colab": {
     "base_uri": "https://localhost:8080/"
    },
    "id": "7KkhqmTYNPcb",
    "outputId": "a853537f-0b41-4eb4-caaf-a44c239fc546"
   },
   "outputs": [],
   "source": [
    "hourly_mean_speed = df.groupby('pickup_hour')['speed'].mean()\n",
    "\n",
    "print(hourly_mean_speed)"
   ]
  },
  {
   "cell_type": "code",
   "execution_count": null,
   "id": "abgo1azFNQde",
   "metadata": {
    "colab": {
     "base_uri": "https://localhost:8080/"
    },
    "id": "abgo1azFNQde",
    "outputId": "bd017e53-0ed6-4848-a7d9-89cd54e902be"
   },
   "outputs": [],
   "source": [
    "hourly_weekday_mean_speed = df.groupby(['pickup_hour', 'pickup_day'])['speed'].mean()\n",
    "\n",
    "print(hourly_weekday_mean_speed[2])\n"
   ]
  },
  {
   "cell_type": "markdown",
   "id": "0NoYA-2pRuFk",
   "metadata": {
    "id": "0NoYA-2pRuFk"
   },
   "source": [
    "Pregunta:\n",
    "\n",
    "+ Escriu una funció que identifiqui les cinc ubicacions de recollida (PULocationID) més freqüents.\n",
    "+ Per a aquestes cinc ubicacions de recollida, calcula el nombre mitjà de passatgers (passenger_count) per trajecte.\n",
    "+ Filtra els trajectes on la ubicació de recollida i de deixada són la mateixa (PULocationID == DOLocationID). Calcula el percentatge d'aquests trajectes respecte al total de trajectes."
   ]
  },
  {
   "cell_type": "code",
   "execution_count": null,
   "id": "gJKQFxgkRutU",
   "metadata": {
    "colab": {
     "base_uri": "https://localhost:8080/"
    },
    "id": "gJKQFxgkRutU",
    "outputId": "1131f6db-9c9b-4544-c333-acc7c0b0f8fc"
   },
   "outputs": [],
   "source": [
    "def analyze_pickup_dropoff_locations(df):\n",
    "\n",
    "    # AQUÍ EL TEU CODI\n",
    "\n",
    "    return {\n",
    "        'top_pickup_locations': top_pickup_locations,\n",
    "        'average_passengers': average_passengers,\n",
    "        'percentage_same_location_trips': percentage_same_location_trips\n",
    "    }\n",
    "\n",
    "analyze_pickup_dropoff_locations(df)"
   ]
  }
 ],
 "metadata": {
  "colab": {
   "provenance": []
  },
  "kernelspec": {
   "display_name": "Python 3 (ipykernel)",
   "language": "python",
   "name": "python3"
  },
  "language_info": {
   "codemirror_mode": {
    "name": "ipython",
    "version": 3
   },
   "file_extension": ".py",
   "mimetype": "text/x-python",
   "name": "python",
   "nbconvert_exporter": "python",
   "pygments_lexer": "ipython3",
   "version": "3.13.7"
  },
  "widgets": {
   "application/vnd.jupyter.widget-state+json": {
    "079bb83789cd433e96cb603e63dd9cd1": {
     "model_module": "@jupyter-widgets/base",
     "model_module_version": "1.2.0",
     "model_name": "LayoutModel",
     "state": {
      "_model_module": "@jupyter-widgets/base",
      "_model_module_version": "1.2.0",
      "_model_name": "LayoutModel",
      "_view_count": null,
      "_view_module": "@jupyter-widgets/base",
      "_view_module_version": "1.2.0",
      "_view_name": "LayoutView",
      "align_content": null,
      "align_items": null,
      "align_self": null,
      "border": null,
      "bottom": null,
      "display": null,
      "flex": null,
      "flex_flow": null,
      "grid_area": null,
      "grid_auto_columns": null,
      "grid_auto_flow": null,
      "grid_auto_rows": null,
      "grid_column": null,
      "grid_gap": null,
      "grid_row": null,
      "grid_template_areas": null,
      "grid_template_columns": null,
      "grid_template_rows": null,
      "height": null,
      "justify_content": null,
      "justify_items": null,
      "left": null,
      "margin": null,
      "max_height": null,
      "max_width": null,
      "min_height": null,
      "min_width": null,
      "object_fit": null,
      "object_position": null,
      "order": null,
      "overflow": null,
      "overflow_x": null,
      "overflow_y": null,
      "padding": null,
      "right": null,
      "top": null,
      "visibility": null,
      "width": null
     }
    },
    "16f7c0597be34013bf6313b899f774d4": {
     "model_module": "@jupyter-widgets/base",
     "model_module_version": "1.2.0",
     "model_name": "LayoutModel",
     "state": {
      "_model_module": "@jupyter-widgets/base",
      "_model_module_version": "1.2.0",
      "_model_name": "LayoutModel",
      "_view_count": null,
      "_view_module": "@jupyter-widgets/base",
      "_view_module_version": "1.2.0",
      "_view_name": "LayoutView",
      "align_content": null,
      "align_items": null,
      "align_self": null,
      "border": null,
      "bottom": null,
      "display": null,
      "flex": null,
      "flex_flow": null,
      "grid_area": null,
      "grid_auto_columns": null,
      "grid_auto_flow": null,
      "grid_auto_rows": null,
      "grid_column": null,
      "grid_gap": null,
      "grid_row": null,
      "grid_template_areas": null,
      "grid_template_columns": null,
      "grid_template_rows": null,
      "height": null,
      "justify_content": null,
      "justify_items": null,
      "left": null,
      "margin": null,
      "max_height": null,
      "max_width": null,
      "min_height": null,
      "min_width": null,
      "object_fit": null,
      "object_position": null,
      "order": null,
      "overflow": null,
      "overflow_x": null,
      "overflow_y": null,
      "padding": null,
      "right": null,
      "top": null,
      "visibility": null,
      "width": null
     }
    },
    "1aff0e8fbf1f4552a1fee50109bdb028": {
     "model_module": "@jupyter-widgets/base",
     "model_module_version": "1.2.0",
     "model_name": "LayoutModel",
     "state": {
      "_model_module": "@jupyter-widgets/base",
      "_model_module_version": "1.2.0",
      "_model_name": "LayoutModel",
      "_view_count": null,
      "_view_module": "@jupyter-widgets/base",
      "_view_module_version": "1.2.0",
      "_view_name": "LayoutView",
      "align_content": null,
      "align_items": null,
      "align_self": null,
      "border": null,
      "bottom": null,
      "display": null,
      "flex": null,
      "flex_flow": null,
      "grid_area": null,
      "grid_auto_columns": null,
      "grid_auto_flow": null,
      "grid_auto_rows": null,
      "grid_column": null,
      "grid_gap": null,
      "grid_row": null,
      "grid_template_areas": null,
      "grid_template_columns": null,
      "grid_template_rows": null,
      "height": null,
      "justify_content": null,
      "justify_items": null,
      "left": null,
      "margin": null,
      "max_height": null,
      "max_width": null,
      "min_height": null,
      "min_width": null,
      "object_fit": null,
      "object_position": null,
      "order": null,
      "overflow": null,
      "overflow_x": null,
      "overflow_y": null,
      "padding": null,
      "right": null,
      "top": null,
      "visibility": null,
      "width": null
     }
    },
    "1bf0fa5b1fec46c49ee0247e8234069d": {
     "model_module": "@jupyter-widgets/controls",
     "model_module_version": "1.5.0",
     "model_name": "HBoxModel",
     "state": {
      "_dom_classes": [],
      "_model_module": "@jupyter-widgets/controls",
      "_model_module_version": "1.5.0",
      "_model_name": "HBoxModel",
      "_view_count": null,
      "_view_module": "@jupyter-widgets/controls",
      "_view_module_version": "1.5.0",
      "_view_name": "HBoxView",
      "box_style": "",
      "children": [
       "IPY_MODEL_1f68151bf7f24ce4ad8f1ad95dca173e",
       "IPY_MODEL_ba824d4c8b234168a972e932cb62a66a",
       "IPY_MODEL_22d5402e15b84b62bea41c2b8f4bd6f5"
      ],
      "layout": "IPY_MODEL_241470d9ce1d4cdd97b18fc00bd35df8"
     }
    },
    "1f68151bf7f24ce4ad8f1ad95dca173e": {
     "model_module": "@jupyter-widgets/controls",
     "model_module_version": "1.5.0",
     "model_name": "HTMLModel",
     "state": {
      "_dom_classes": [],
      "_model_module": "@jupyter-widgets/controls",
      "_model_module_version": "1.5.0",
      "_model_name": "HTMLModel",
      "_view_count": null,
      "_view_module": "@jupyter-widgets/controls",
      "_view_module_version": "1.5.0",
      "_view_name": "HTMLView",
      "description": "",
      "description_tooltip": null,
      "layout": "IPY_MODEL_cff5f82ace1b4534b1889b3bbb5a0fa0",
      "placeholder": "​",
      "style": "IPY_MODEL_f49db9cd3af74135803aa5969d8d1f43",
      "value": "100%"
     }
    },
    "22d5402e15b84b62bea41c2b8f4bd6f5": {
     "model_module": "@jupyter-widgets/controls",
     "model_module_version": "1.5.0",
     "model_name": "HTMLModel",
     "state": {
      "_dom_classes": [],
      "_model_module": "@jupyter-widgets/controls",
      "_model_module_version": "1.5.0",
      "_model_name": "HTMLModel",
      "_view_count": null,
      "_view_module": "@jupyter-widgets/controls",
      "_view_module_version": "1.5.0",
      "_view_name": "HTMLView",
      "description": "",
      "description_tooltip": null,
      "layout": "IPY_MODEL_86376fb39410462da96ec9fe27210816",
      "placeholder": "​",
      "style": "IPY_MODEL_c3011136a61d4c6faa53aaf6f961ed5d",
      "value": " 12/12 [00:54&lt;00:00,  3.73s/it]"
     }
    },
    "241470d9ce1d4cdd97b18fc00bd35df8": {
     "model_module": "@jupyter-widgets/base",
     "model_module_version": "1.2.0",
     "model_name": "LayoutModel",
     "state": {
      "_model_module": "@jupyter-widgets/base",
      "_model_module_version": "1.2.0",
      "_model_name": "LayoutModel",
      "_view_count": null,
      "_view_module": "@jupyter-widgets/base",
      "_view_module_version": "1.2.0",
      "_view_name": "LayoutView",
      "align_content": null,
      "align_items": null,
      "align_self": null,
      "border": null,
      "bottom": null,
      "display": null,
      "flex": null,
      "flex_flow": null,
      "grid_area": null,
      "grid_auto_columns": null,
      "grid_auto_flow": null,
      "grid_auto_rows": null,
      "grid_column": null,
      "grid_gap": null,
      "grid_row": null,
      "grid_template_areas": null,
      "grid_template_columns": null,
      "grid_template_rows": null,
      "height": null,
      "justify_content": null,
      "justify_items": null,
      "left": null,
      "margin": null,
      "max_height": null,
      "max_width": null,
      "min_height": null,
      "min_width": null,
      "object_fit": null,
      "object_position": null,
      "order": null,
      "overflow": null,
      "overflow_x": null,
      "overflow_y": null,
      "padding": null,
      "right": null,
      "top": null,
      "visibility": "hidden",
      "width": null
     }
    },
    "2bcc934e0eae425ba7c6fd656217dbf3": {
     "model_module": "@jupyter-widgets/controls",
     "model_module_version": "1.5.0",
     "model_name": "DescriptionStyleModel",
     "state": {
      "_model_module": "@jupyter-widgets/controls",
      "_model_module_version": "1.5.0",
      "_model_name": "DescriptionStyleModel",
      "_view_count": null,
      "_view_module": "@jupyter-widgets/base",
      "_view_module_version": "1.2.0",
      "_view_name": "StyleView",
      "description_width": ""
     }
    },
    "2cef17f7fdf349aa91e2ac530b4f183d": {
     "model_module": "@jupyter-widgets/base",
     "model_module_version": "1.2.0",
     "model_name": "LayoutModel",
     "state": {
      "_model_module": "@jupyter-widgets/base",
      "_model_module_version": "1.2.0",
      "_model_name": "LayoutModel",
      "_view_count": null,
      "_view_module": "@jupyter-widgets/base",
      "_view_module_version": "1.2.0",
      "_view_name": "LayoutView",
      "align_content": null,
      "align_items": null,
      "align_self": null,
      "border": null,
      "bottom": null,
      "display": null,
      "flex": null,
      "flex_flow": null,
      "grid_area": null,
      "grid_auto_columns": null,
      "grid_auto_flow": null,
      "grid_auto_rows": null,
      "grid_column": null,
      "grid_gap": null,
      "grid_row": null,
      "grid_template_areas": null,
      "grid_template_columns": null,
      "grid_template_rows": null,
      "height": null,
      "justify_content": null,
      "justify_items": null,
      "left": null,
      "margin": null,
      "max_height": null,
      "max_width": null,
      "min_height": null,
      "min_width": null,
      "object_fit": null,
      "object_position": null,
      "order": null,
      "overflow": null,
      "overflow_x": null,
      "overflow_y": null,
      "padding": null,
      "right": null,
      "top": null,
      "visibility": null,
      "width": null
     }
    },
    "2d2d8cf5f4e24ed488445bca31e23400": {
     "model_module": "@jupyter-widgets/controls",
     "model_module_version": "1.5.0",
     "model_name": "ProgressStyleModel",
     "state": {
      "_model_module": "@jupyter-widgets/controls",
      "_model_module_version": "1.5.0",
      "_model_name": "ProgressStyleModel",
      "_view_count": null,
      "_view_module": "@jupyter-widgets/base",
      "_view_module_version": "1.2.0",
      "_view_name": "StyleView",
      "bar_color": null,
      "description_width": ""
     }
    },
    "3047186055bb45ccb30ecfcf21993b80": {
     "model_module": "@jupyter-widgets/controls",
     "model_module_version": "1.5.0",
     "model_name": "HTMLModel",
     "state": {
      "_dom_classes": [],
      "_model_module": "@jupyter-widgets/controls",
      "_model_module_version": "1.5.0",
      "_model_name": "HTMLModel",
      "_view_count": null,
      "_view_module": "@jupyter-widgets/controls",
      "_view_module_version": "1.5.0",
      "_view_name": "HTMLView",
      "description": "",
      "description_tooltip": null,
      "layout": "IPY_MODEL_459760064b0b4283bc8bc2e3a85b45d4",
      "placeholder": "​",
      "style": "IPY_MODEL_3f3abcb0204847f3b7dce641c983b42c",
      "value": " 12/12 [00:09&lt;00:00,  1.84it/s]"
     }
    },
    "313e8939bd1b4032a87b5c4c2ead2170": {
     "model_module": "@jupyter-widgets/controls",
     "model_module_version": "1.5.0",
     "model_name": "ProgressStyleModel",
     "state": {
      "_model_module": "@jupyter-widgets/controls",
      "_model_module_version": "1.5.0",
      "_model_name": "ProgressStyleModel",
      "_view_count": null,
      "_view_module": "@jupyter-widgets/base",
      "_view_module_version": "1.2.0",
      "_view_name": "StyleView",
      "bar_color": null,
      "description_width": ""
     }
    },
    "326e6b1be7d745cb94bb26ed037e2493": {
     "model_module": "@jupyter-widgets/controls",
     "model_module_version": "1.5.0",
     "model_name": "HTMLModel",
     "state": {
      "_dom_classes": [],
      "_model_module": "@jupyter-widgets/controls",
      "_model_module_version": "1.5.0",
      "_model_name": "HTMLModel",
      "_view_count": null,
      "_view_module": "@jupyter-widgets/controls",
      "_view_module_version": "1.5.0",
      "_view_name": "HTMLView",
      "description": "",
      "description_tooltip": null,
      "layout": "IPY_MODEL_d206805f170c4d0080c167f227c51957",
      "placeholder": "​",
      "style": "IPY_MODEL_e1040a864e9f4816ba5e8d8d496da0be",
      "value": "100%"
     }
    },
    "36535324373b4cee9bce460d190c3b1f": {
     "model_module": "@jupyter-widgets/controls",
     "model_module_version": "1.5.0",
     "model_name": "HTMLModel",
     "state": {
      "_dom_classes": [],
      "_model_module": "@jupyter-widgets/controls",
      "_model_module_version": "1.5.0",
      "_model_name": "HTMLModel",
      "_view_count": null,
      "_view_module": "@jupyter-widgets/controls",
      "_view_module_version": "1.5.0",
      "_view_name": "HTMLView",
      "description": "",
      "description_tooltip": null,
      "layout": "IPY_MODEL_464c3c0b0eed4b3198509c80c08467bf",
      "placeholder": "​",
      "style": "IPY_MODEL_e100e0ea738944e8ab8ec163c5ebafb9",
      "value": "100%"
     }
    },
    "3f3abcb0204847f3b7dce641c983b42c": {
     "model_module": "@jupyter-widgets/controls",
     "model_module_version": "1.5.0",
     "model_name": "DescriptionStyleModel",
     "state": {
      "_model_module": "@jupyter-widgets/controls",
      "_model_module_version": "1.5.0",
      "_model_name": "DescriptionStyleModel",
      "_view_count": null,
      "_view_module": "@jupyter-widgets/base",
      "_view_module_version": "1.2.0",
      "_view_name": "StyleView",
      "description_width": ""
     }
    },
    "4059586e5d47494cb1398f594049d279": {
     "model_module": "@jupyter-widgets/controls",
     "model_module_version": "1.5.0",
     "model_name": "DescriptionStyleModel",
     "state": {
      "_model_module": "@jupyter-widgets/controls",
      "_model_module_version": "1.5.0",
      "_model_name": "DescriptionStyleModel",
      "_view_count": null,
      "_view_module": "@jupyter-widgets/base",
      "_view_module_version": "1.2.0",
      "_view_name": "StyleView",
      "description_width": ""
     }
    },
    "44438f0b767e49cbae8378d930ec74c3": {
     "model_module": "@jupyter-widgets/base",
     "model_module_version": "1.2.0",
     "model_name": "LayoutModel",
     "state": {
      "_model_module": "@jupyter-widgets/base",
      "_model_module_version": "1.2.0",
      "_model_name": "LayoutModel",
      "_view_count": null,
      "_view_module": "@jupyter-widgets/base",
      "_view_module_version": "1.2.0",
      "_view_name": "LayoutView",
      "align_content": null,
      "align_items": null,
      "align_self": null,
      "border": null,
      "bottom": null,
      "display": null,
      "flex": null,
      "flex_flow": null,
      "grid_area": null,
      "grid_auto_columns": null,
      "grid_auto_flow": null,
      "grid_auto_rows": null,
      "grid_column": null,
      "grid_gap": null,
      "grid_row": null,
      "grid_template_areas": null,
      "grid_template_columns": null,
      "grid_template_rows": null,
      "height": null,
      "justify_content": null,
      "justify_items": null,
      "left": null,
      "margin": null,
      "max_height": null,
      "max_width": null,
      "min_height": null,
      "min_width": null,
      "object_fit": null,
      "object_position": null,
      "order": null,
      "overflow": null,
      "overflow_x": null,
      "overflow_y": null,
      "padding": null,
      "right": null,
      "top": null,
      "visibility": null,
      "width": null
     }
    },
    "459760064b0b4283bc8bc2e3a85b45d4": {
     "model_module": "@jupyter-widgets/base",
     "model_module_version": "1.2.0",
     "model_name": "LayoutModel",
     "state": {
      "_model_module": "@jupyter-widgets/base",
      "_model_module_version": "1.2.0",
      "_model_name": "LayoutModel",
      "_view_count": null,
      "_view_module": "@jupyter-widgets/base",
      "_view_module_version": "1.2.0",
      "_view_name": "LayoutView",
      "align_content": null,
      "align_items": null,
      "align_self": null,
      "border": null,
      "bottom": null,
      "display": null,
      "flex": null,
      "flex_flow": null,
      "grid_area": null,
      "grid_auto_columns": null,
      "grid_auto_flow": null,
      "grid_auto_rows": null,
      "grid_column": null,
      "grid_gap": null,
      "grid_row": null,
      "grid_template_areas": null,
      "grid_template_columns": null,
      "grid_template_rows": null,
      "height": null,
      "justify_content": null,
      "justify_items": null,
      "left": null,
      "margin": null,
      "max_height": null,
      "max_width": null,
      "min_height": null,
      "min_width": null,
      "object_fit": null,
      "object_position": null,
      "order": null,
      "overflow": null,
      "overflow_x": null,
      "overflow_y": null,
      "padding": null,
      "right": null,
      "top": null,
      "visibility": null,
      "width": null
     }
    },
    "464c3c0b0eed4b3198509c80c08467bf": {
     "model_module": "@jupyter-widgets/base",
     "model_module_version": "1.2.0",
     "model_name": "LayoutModel",
     "state": {
      "_model_module": "@jupyter-widgets/base",
      "_model_module_version": "1.2.0",
      "_model_name": "LayoutModel",
      "_view_count": null,
      "_view_module": "@jupyter-widgets/base",
      "_view_module_version": "1.2.0",
      "_view_name": "LayoutView",
      "align_content": null,
      "align_items": null,
      "align_self": null,
      "border": null,
      "bottom": null,
      "display": null,
      "flex": null,
      "flex_flow": null,
      "grid_area": null,
      "grid_auto_columns": null,
      "grid_auto_flow": null,
      "grid_auto_rows": null,
      "grid_column": null,
      "grid_gap": null,
      "grid_row": null,
      "grid_template_areas": null,
      "grid_template_columns": null,
      "grid_template_rows": null,
      "height": null,
      "justify_content": null,
      "justify_items": null,
      "left": null,
      "margin": null,
      "max_height": null,
      "max_width": null,
      "min_height": null,
      "min_width": null,
      "object_fit": null,
      "object_position": null,
      "order": null,
      "overflow": null,
      "overflow_x": null,
      "overflow_y": null,
      "padding": null,
      "right": null,
      "top": null,
      "visibility": null,
      "width": null
     }
    },
    "48de3b2491554d3cbcdcc3dd79bf2992": {
     "model_module": "@jupyter-widgets/base",
     "model_module_version": "1.2.0",
     "model_name": "LayoutModel",
     "state": {
      "_model_module": "@jupyter-widgets/base",
      "_model_module_version": "1.2.0",
      "_model_name": "LayoutModel",
      "_view_count": null,
      "_view_module": "@jupyter-widgets/base",
      "_view_module_version": "1.2.0",
      "_view_name": "LayoutView",
      "align_content": null,
      "align_items": null,
      "align_self": null,
      "border": null,
      "bottom": null,
      "display": null,
      "flex": null,
      "flex_flow": null,
      "grid_area": null,
      "grid_auto_columns": null,
      "grid_auto_flow": null,
      "grid_auto_rows": null,
      "grid_column": null,
      "grid_gap": null,
      "grid_row": null,
      "grid_template_areas": null,
      "grid_template_columns": null,
      "grid_template_rows": null,
      "height": null,
      "justify_content": null,
      "justify_items": null,
      "left": null,
      "margin": null,
      "max_height": null,
      "max_width": null,
      "min_height": null,
      "min_width": null,
      "object_fit": null,
      "object_position": null,
      "order": null,
      "overflow": null,
      "overflow_x": null,
      "overflow_y": null,
      "padding": null,
      "right": null,
      "top": null,
      "visibility": null,
      "width": null
     }
    },
    "4ec45df5c3934e509b7e95bbf577ffa0": {
     "model_module": "@jupyter-widgets/controls",
     "model_module_version": "1.5.0",
     "model_name": "HBoxModel",
     "state": {
      "_dom_classes": [],
      "_model_module": "@jupyter-widgets/controls",
      "_model_module_version": "1.5.0",
      "_model_name": "HBoxModel",
      "_view_count": null,
      "_view_module": "@jupyter-widgets/controls",
      "_view_module_version": "1.5.0",
      "_view_name": "HBoxView",
      "box_style": "",
      "children": [
       "IPY_MODEL_a39771dc4f0541ca913904277433f1cc",
       "IPY_MODEL_d0687e4b93c349fbabaa9ef29a9a64b0",
       "IPY_MODEL_9eb00b98030942e1b2a10d2b3e53aec5"
      ],
      "layout": "IPY_MODEL_f17a686ffda147aa8afa1e9bcb2a3ba9"
     }
    },
    "52543aabafcf442bbe1eacc522896ef3": {
     "model_module": "@jupyter-widgets/controls",
     "model_module_version": "1.5.0",
     "model_name": "FloatProgressModel",
     "state": {
      "_dom_classes": [],
      "_model_module": "@jupyter-widgets/controls",
      "_model_module_version": "1.5.0",
      "_model_name": "FloatProgressModel",
      "_view_count": null,
      "_view_module": "@jupyter-widgets/controls",
      "_view_module_version": "1.5.0",
      "_view_name": "ProgressView",
      "bar_style": "success",
      "description": "",
      "description_tooltip": null,
      "layout": "IPY_MODEL_1aff0e8fbf1f4552a1fee50109bdb028",
      "max": 3,
      "min": 0,
      "orientation": "horizontal",
      "style": "IPY_MODEL_2d2d8cf5f4e24ed488445bca31e23400",
      "value": 3
     }
    },
    "53353a655ca0473d985b96adf8f974e6": {
     "model_module": "@jupyter-widgets/controls",
     "model_module_version": "1.5.0",
     "model_name": "HBoxModel",
     "state": {
      "_dom_classes": [],
      "_model_module": "@jupyter-widgets/controls",
      "_model_module_version": "1.5.0",
      "_model_name": "HBoxModel",
      "_view_count": null,
      "_view_module": "@jupyter-widgets/controls",
      "_view_module_version": "1.5.0",
      "_view_name": "HBoxView",
      "box_style": "",
      "children": [
       "IPY_MODEL_36535324373b4cee9bce460d190c3b1f",
       "IPY_MODEL_94cac0fe42694953911c38e51d015734",
       "IPY_MODEL_3047186055bb45ccb30ecfcf21993b80"
      ],
      "layout": "IPY_MODEL_760fc8b2cee1403e94ea28ea7e3ffae2"
     }
    },
    "53f934a345e3442fb1e77713d26bcf65": {
     "model_module": "@jupyter-widgets/controls",
     "model_module_version": "1.5.0",
     "model_name": "HTMLModel",
     "state": {
      "_dom_classes": [],
      "_model_module": "@jupyter-widgets/controls",
      "_model_module_version": "1.5.0",
      "_model_name": "HTMLModel",
      "_view_count": null,
      "_view_module": "@jupyter-widgets/controls",
      "_view_module_version": "1.5.0",
      "_view_name": "HTMLView",
      "description": "",
      "description_tooltip": null,
      "layout": "IPY_MODEL_d443e79500ca43d694d780107d722bf6",
      "placeholder": "​",
      "style": "IPY_MODEL_fc08f1a8d0bb43d79767c04b2926d8f5",
      "value": " 12/12 [00:12&lt;00:00,  1.23s/it]"
     }
    },
    "5eabab1a96d44f5c8914f350b7a18a9a": {
     "model_module": "@jupyter-widgets/base",
     "model_module_version": "1.2.0",
     "model_name": "LayoutModel",
     "state": {
      "_model_module": "@jupyter-widgets/base",
      "_model_module_version": "1.2.0",
      "_model_name": "LayoutModel",
      "_view_count": null,
      "_view_module": "@jupyter-widgets/base",
      "_view_module_version": "1.2.0",
      "_view_name": "LayoutView",
      "align_content": null,
      "align_items": null,
      "align_self": null,
      "border": null,
      "bottom": null,
      "display": null,
      "flex": null,
      "flex_flow": null,
      "grid_area": null,
      "grid_auto_columns": null,
      "grid_auto_flow": null,
      "grid_auto_rows": null,
      "grid_column": null,
      "grid_gap": null,
      "grid_row": null,
      "grid_template_areas": null,
      "grid_template_columns": null,
      "grid_template_rows": null,
      "height": null,
      "justify_content": null,
      "justify_items": null,
      "left": null,
      "margin": null,
      "max_height": null,
      "max_width": null,
      "min_height": null,
      "min_width": null,
      "object_fit": null,
      "object_position": null,
      "order": null,
      "overflow": null,
      "overflow_x": null,
      "overflow_y": null,
      "padding": null,
      "right": null,
      "top": null,
      "visibility": null,
      "width": null
     }
    },
    "5fd829ce87344f3c91ea4351528d89ce": {
     "model_module": "@jupyter-widgets/base",
     "model_module_version": "1.2.0",
     "model_name": "LayoutModel",
     "state": {
      "_model_module": "@jupyter-widgets/base",
      "_model_module_version": "1.2.0",
      "_model_name": "LayoutModel",
      "_view_count": null,
      "_view_module": "@jupyter-widgets/base",
      "_view_module_version": "1.2.0",
      "_view_name": "LayoutView",
      "align_content": null,
      "align_items": null,
      "align_self": null,
      "border": null,
      "bottom": null,
      "display": null,
      "flex": null,
      "flex_flow": null,
      "grid_area": null,
      "grid_auto_columns": null,
      "grid_auto_flow": null,
      "grid_auto_rows": null,
      "grid_column": null,
      "grid_gap": null,
      "grid_row": null,
      "grid_template_areas": null,
      "grid_template_columns": null,
      "grid_template_rows": null,
      "height": null,
      "justify_content": null,
      "justify_items": null,
      "left": null,
      "margin": null,
      "max_height": null,
      "max_width": null,
      "min_height": null,
      "min_width": null,
      "object_fit": null,
      "object_position": null,
      "order": null,
      "overflow": null,
      "overflow_x": null,
      "overflow_y": null,
      "padding": null,
      "right": null,
      "top": null,
      "visibility": "hidden",
      "width": null
     }
    },
    "6032535191c445af820ca82ad7777994": {
     "model_module": "@jupyter-widgets/base",
     "model_module_version": "1.2.0",
     "model_name": "LayoutModel",
     "state": {
      "_model_module": "@jupyter-widgets/base",
      "_model_module_version": "1.2.0",
      "_model_name": "LayoutModel",
      "_view_count": null,
      "_view_module": "@jupyter-widgets/base",
      "_view_module_version": "1.2.0",
      "_view_name": "LayoutView",
      "align_content": null,
      "align_items": null,
      "align_self": null,
      "border": null,
      "bottom": null,
      "display": null,
      "flex": null,
      "flex_flow": null,
      "grid_area": null,
      "grid_auto_columns": null,
      "grid_auto_flow": null,
      "grid_auto_rows": null,
      "grid_column": null,
      "grid_gap": null,
      "grid_row": null,
      "grid_template_areas": null,
      "grid_template_columns": null,
      "grid_template_rows": null,
      "height": null,
      "justify_content": null,
      "justify_items": null,
      "left": null,
      "margin": null,
      "max_height": null,
      "max_width": null,
      "min_height": null,
      "min_width": null,
      "object_fit": null,
      "object_position": null,
      "order": null,
      "overflow": null,
      "overflow_x": null,
      "overflow_y": null,
      "padding": null,
      "right": null,
      "top": null,
      "visibility": null,
      "width": null
     }
    },
    "760fc8b2cee1403e94ea28ea7e3ffae2": {
     "model_module": "@jupyter-widgets/base",
     "model_module_version": "1.2.0",
     "model_name": "LayoutModel",
     "state": {
      "_model_module": "@jupyter-widgets/base",
      "_model_module_version": "1.2.0",
      "_model_name": "LayoutModel",
      "_view_count": null,
      "_view_module": "@jupyter-widgets/base",
      "_view_module_version": "1.2.0",
      "_view_name": "LayoutView",
      "align_content": null,
      "align_items": null,
      "align_self": null,
      "border": null,
      "bottom": null,
      "display": null,
      "flex": null,
      "flex_flow": null,
      "grid_area": null,
      "grid_auto_columns": null,
      "grid_auto_flow": null,
      "grid_auto_rows": null,
      "grid_column": null,
      "grid_gap": null,
      "grid_row": null,
      "grid_template_areas": null,
      "grid_template_columns": null,
      "grid_template_rows": null,
      "height": null,
      "justify_content": null,
      "justify_items": null,
      "left": null,
      "margin": null,
      "max_height": null,
      "max_width": null,
      "min_height": null,
      "min_width": null,
      "object_fit": null,
      "object_position": null,
      "order": null,
      "overflow": null,
      "overflow_x": null,
      "overflow_y": null,
      "padding": null,
      "right": null,
      "top": null,
      "visibility": "hidden",
      "width": null
     }
    },
    "8155e604eba04c31adc9f9e6c9a8a211": {
     "model_module": "@jupyter-widgets/controls",
     "model_module_version": "1.5.0",
     "model_name": "HBoxModel",
     "state": {
      "_dom_classes": [],
      "_model_module": "@jupyter-widgets/controls",
      "_model_module_version": "1.5.0",
      "_model_name": "HBoxModel",
      "_view_count": null,
      "_view_module": "@jupyter-widgets/controls",
      "_view_module_version": "1.5.0",
      "_view_name": "HBoxView",
      "box_style": "",
      "children": [
       "IPY_MODEL_82d84131ba70460db0f1b6cdc1fc4f3a",
       "IPY_MODEL_52543aabafcf442bbe1eacc522896ef3",
       "IPY_MODEL_b66f43929ba54a86940a3cc655edb320"
      ],
      "layout": "IPY_MODEL_079bb83789cd433e96cb603e63dd9cd1"
     }
    },
    "82d84131ba70460db0f1b6cdc1fc4f3a": {
     "model_module": "@jupyter-widgets/controls",
     "model_module_version": "1.5.0",
     "model_name": "HTMLModel",
     "state": {
      "_dom_classes": [],
      "_model_module": "@jupyter-widgets/controls",
      "_model_module_version": "1.5.0",
      "_model_name": "HTMLModel",
      "_view_count": null,
      "_view_module": "@jupyter-widgets/controls",
      "_view_module_version": "1.5.0",
      "_view_name": "HTMLView",
      "description": "",
      "description_tooltip": null,
      "layout": "IPY_MODEL_2cef17f7fdf349aa91e2ac530b4f183d",
      "placeholder": "​",
      "style": "IPY_MODEL_4059586e5d47494cb1398f594049d279",
      "value": "100%"
     }
    },
    "86376fb39410462da96ec9fe27210816": {
     "model_module": "@jupyter-widgets/base",
     "model_module_version": "1.2.0",
     "model_name": "LayoutModel",
     "state": {
      "_model_module": "@jupyter-widgets/base",
      "_model_module_version": "1.2.0",
      "_model_name": "LayoutModel",
      "_view_count": null,
      "_view_module": "@jupyter-widgets/base",
      "_view_module_version": "1.2.0",
      "_view_name": "LayoutView",
      "align_content": null,
      "align_items": null,
      "align_self": null,
      "border": null,
      "bottom": null,
      "display": null,
      "flex": null,
      "flex_flow": null,
      "grid_area": null,
      "grid_auto_columns": null,
      "grid_auto_flow": null,
      "grid_auto_rows": null,
      "grid_column": null,
      "grid_gap": null,
      "grid_row": null,
      "grid_template_areas": null,
      "grid_template_columns": null,
      "grid_template_rows": null,
      "height": null,
      "justify_content": null,
      "justify_items": null,
      "left": null,
      "margin": null,
      "max_height": null,
      "max_width": null,
      "min_height": null,
      "min_width": null,
      "object_fit": null,
      "object_position": null,
      "order": null,
      "overflow": null,
      "overflow_x": null,
      "overflow_y": null,
      "padding": null,
      "right": null,
      "top": null,
      "visibility": null,
      "width": null
     }
    },
    "86cf142e2fea40bcafdc3b447b118d0e": {
     "model_module": "@jupyter-widgets/controls",
     "model_module_version": "1.5.0",
     "model_name": "DescriptionStyleModel",
     "state": {
      "_model_module": "@jupyter-widgets/controls",
      "_model_module_version": "1.5.0",
      "_model_name": "DescriptionStyleModel",
      "_view_count": null,
      "_view_module": "@jupyter-widgets/base",
      "_view_module_version": "1.2.0",
      "_view_name": "StyleView",
      "description_width": ""
     }
    },
    "94cac0fe42694953911c38e51d015734": {
     "model_module": "@jupyter-widgets/controls",
     "model_module_version": "1.5.0",
     "model_name": "FloatProgressModel",
     "state": {
      "_dom_classes": [],
      "_model_module": "@jupyter-widgets/controls",
      "_model_module_version": "1.5.0",
      "_model_name": "FloatProgressModel",
      "_view_count": null,
      "_view_module": "@jupyter-widgets/controls",
      "_view_module_version": "1.5.0",
      "_view_name": "ProgressView",
      "bar_style": "",
      "description": "",
      "description_tooltip": null,
      "layout": "IPY_MODEL_f9fa4d6c226f440cb6898c555e704582",
      "max": 12,
      "min": 0,
      "orientation": "horizontal",
      "style": "IPY_MODEL_313e8939bd1b4032a87b5c4c2ead2170",
      "value": 12
     }
    },
    "98b6a8ccdda74f168c92d7b9c63c52b7": {
     "model_module": "@jupyter-widgets/controls",
     "model_module_version": "1.5.0",
     "model_name": "ProgressStyleModel",
     "state": {
      "_model_module": "@jupyter-widgets/controls",
      "_model_module_version": "1.5.0",
      "_model_name": "ProgressStyleModel",
      "_view_count": null,
      "_view_module": "@jupyter-widgets/base",
      "_view_module_version": "1.2.0",
      "_view_name": "StyleView",
      "bar_color": null,
      "description_width": ""
     }
    },
    "9eb00b98030942e1b2a10d2b3e53aec5": {
     "model_module": "@jupyter-widgets/controls",
     "model_module_version": "1.5.0",
     "model_name": "HTMLModel",
     "state": {
      "_dom_classes": [],
      "_model_module": "@jupyter-widgets/controls",
      "_model_module_version": "1.5.0",
      "_model_name": "HTMLModel",
      "_view_count": null,
      "_view_module": "@jupyter-widgets/controls",
      "_view_module_version": "1.5.0",
      "_view_name": "HTMLView",
      "description": "",
      "description_tooltip": null,
      "layout": "IPY_MODEL_44438f0b767e49cbae8378d930ec74c3",
      "placeholder": "​",
      "style": "IPY_MODEL_2bcc934e0eae425ba7c6fd656217dbf3",
      "value": " 3/3 [01:17&lt;00:00, 21.36s/it]"
     }
    },
    "a39771dc4f0541ca913904277433f1cc": {
     "model_module": "@jupyter-widgets/controls",
     "model_module_version": "1.5.0",
     "model_name": "HTMLModel",
     "state": {
      "_dom_classes": [],
      "_model_module": "@jupyter-widgets/controls",
      "_model_module_version": "1.5.0",
      "_model_name": "HTMLModel",
      "_view_count": null,
      "_view_module": "@jupyter-widgets/controls",
      "_view_module_version": "1.5.0",
      "_view_name": "HTMLView",
      "description": "",
      "description_tooltip": null,
      "layout": "IPY_MODEL_48de3b2491554d3cbcdcc3dd79bf2992",
      "placeholder": "​",
      "style": "IPY_MODEL_d923236a21dc47b1b5a9273312cf0332",
      "value": "100%"
     }
    },
    "b26f84abbe3045eaba1b72c49ff0a3c1": {
     "model_module": "@jupyter-widgets/base",
     "model_module_version": "1.2.0",
     "model_name": "LayoutModel",
     "state": {
      "_model_module": "@jupyter-widgets/base",
      "_model_module_version": "1.2.0",
      "_model_name": "LayoutModel",
      "_view_count": null,
      "_view_module": "@jupyter-widgets/base",
      "_view_module_version": "1.2.0",
      "_view_name": "LayoutView",
      "align_content": null,
      "align_items": null,
      "align_self": null,
      "border": null,
      "bottom": null,
      "display": null,
      "flex": null,
      "flex_flow": null,
      "grid_area": null,
      "grid_auto_columns": null,
      "grid_auto_flow": null,
      "grid_auto_rows": null,
      "grid_column": null,
      "grid_gap": null,
      "grid_row": null,
      "grid_template_areas": null,
      "grid_template_columns": null,
      "grid_template_rows": null,
      "height": null,
      "justify_content": null,
      "justify_items": null,
      "left": null,
      "margin": null,
      "max_height": null,
      "max_width": null,
      "min_height": null,
      "min_width": null,
      "object_fit": null,
      "object_position": null,
      "order": null,
      "overflow": null,
      "overflow_x": null,
      "overflow_y": null,
      "padding": null,
      "right": null,
      "top": null,
      "visibility": null,
      "width": null
     }
    },
    "b66f43929ba54a86940a3cc655edb320": {
     "model_module": "@jupyter-widgets/controls",
     "model_module_version": "1.5.0",
     "model_name": "HTMLModel",
     "state": {
      "_dom_classes": [],
      "_model_module": "@jupyter-widgets/controls",
      "_model_module_version": "1.5.0",
      "_model_name": "HTMLModel",
      "_view_count": null,
      "_view_module": "@jupyter-widgets/controls",
      "_view_module_version": "1.5.0",
      "_view_name": "HTMLView",
      "description": "",
      "description_tooltip": null,
      "layout": "IPY_MODEL_b26f84abbe3045eaba1b72c49ff0a3c1",
      "placeholder": "​",
      "style": "IPY_MODEL_86cf142e2fea40bcafdc3b447b118d0e",
      "value": " 3/3 [00:00&lt;00:00, 167.24it/s]"
     }
    },
    "b6d4a00ef04e4b4fb3b88d30d69fbf88": {
     "model_module": "@jupyter-widgets/controls",
     "model_module_version": "1.5.0",
     "model_name": "ProgressStyleModel",
     "state": {
      "_model_module": "@jupyter-widgets/controls",
      "_model_module_version": "1.5.0",
      "_model_name": "ProgressStyleModel",
      "_view_count": null,
      "_view_module": "@jupyter-widgets/base",
      "_view_module_version": "1.2.0",
      "_view_name": "StyleView",
      "bar_color": null,
      "description_width": ""
     }
    },
    "b7f509413e24451ea1c74b1ebe1f802a": {
     "model_module": "@jupyter-widgets/controls",
     "model_module_version": "1.5.0",
     "model_name": "FloatProgressModel",
     "state": {
      "_dom_classes": [],
      "_model_module": "@jupyter-widgets/controls",
      "_model_module_version": "1.5.0",
      "_model_name": "FloatProgressModel",
      "_view_count": null,
      "_view_module": "@jupyter-widgets/controls",
      "_view_module_version": "1.5.0",
      "_view_name": "ProgressView",
      "bar_style": "",
      "description": "",
      "description_tooltip": null,
      "layout": "IPY_MODEL_16f7c0597be34013bf6313b899f774d4",
      "max": 12,
      "min": 0,
      "orientation": "horizontal",
      "style": "IPY_MODEL_e7f0726e34664f28adc1a8134ae7c578",
      "value": 12
     }
    },
    "ba824d4c8b234168a972e932cb62a66a": {
     "model_module": "@jupyter-widgets/controls",
     "model_module_version": "1.5.0",
     "model_name": "FloatProgressModel",
     "state": {
      "_dom_classes": [],
      "_model_module": "@jupyter-widgets/controls",
      "_model_module_version": "1.5.0",
      "_model_name": "FloatProgressModel",
      "_view_count": null,
      "_view_module": "@jupyter-widgets/controls",
      "_view_module_version": "1.5.0",
      "_view_name": "ProgressView",
      "bar_style": "",
      "description": "",
      "description_tooltip": null,
      "layout": "IPY_MODEL_5eabab1a96d44f5c8914f350b7a18a9a",
      "max": 12,
      "min": 0,
      "orientation": "horizontal",
      "style": "IPY_MODEL_98b6a8ccdda74f168c92d7b9c63c52b7",
      "value": 12
     }
    },
    "c3011136a61d4c6faa53aaf6f961ed5d": {
     "model_module": "@jupyter-widgets/controls",
     "model_module_version": "1.5.0",
     "model_name": "DescriptionStyleModel",
     "state": {
      "_model_module": "@jupyter-widgets/controls",
      "_model_module_version": "1.5.0",
      "_model_name": "DescriptionStyleModel",
      "_view_count": null,
      "_view_module": "@jupyter-widgets/base",
      "_view_module_version": "1.2.0",
      "_view_name": "StyleView",
      "description_width": ""
     }
    },
    "c4cc137419f34ab98441cea7a5e9a7df": {
     "model_module": "@jupyter-widgets/controls",
     "model_module_version": "1.5.0",
     "model_name": "HBoxModel",
     "state": {
      "_dom_classes": [],
      "_model_module": "@jupyter-widgets/controls",
      "_model_module_version": "1.5.0",
      "_model_name": "HBoxModel",
      "_view_count": null,
      "_view_module": "@jupyter-widgets/controls",
      "_view_module_version": "1.5.0",
      "_view_name": "HBoxView",
      "box_style": "",
      "children": [
       "IPY_MODEL_326e6b1be7d745cb94bb26ed037e2493",
       "IPY_MODEL_b7f509413e24451ea1c74b1ebe1f802a",
       "IPY_MODEL_53f934a345e3442fb1e77713d26bcf65"
      ],
      "layout": "IPY_MODEL_5fd829ce87344f3c91ea4351528d89ce"
     }
    },
    "cff5f82ace1b4534b1889b3bbb5a0fa0": {
     "model_module": "@jupyter-widgets/base",
     "model_module_version": "1.2.0",
     "model_name": "LayoutModel",
     "state": {
      "_model_module": "@jupyter-widgets/base",
      "_model_module_version": "1.2.0",
      "_model_name": "LayoutModel",
      "_view_count": null,
      "_view_module": "@jupyter-widgets/base",
      "_view_module_version": "1.2.0",
      "_view_name": "LayoutView",
      "align_content": null,
      "align_items": null,
      "align_self": null,
      "border": null,
      "bottom": null,
      "display": null,
      "flex": null,
      "flex_flow": null,
      "grid_area": null,
      "grid_auto_columns": null,
      "grid_auto_flow": null,
      "grid_auto_rows": null,
      "grid_column": null,
      "grid_gap": null,
      "grid_row": null,
      "grid_template_areas": null,
      "grid_template_columns": null,
      "grid_template_rows": null,
      "height": null,
      "justify_content": null,
      "justify_items": null,
      "left": null,
      "margin": null,
      "max_height": null,
      "max_width": null,
      "min_height": null,
      "min_width": null,
      "object_fit": null,
      "object_position": null,
      "order": null,
      "overflow": null,
      "overflow_x": null,
      "overflow_y": null,
      "padding": null,
      "right": null,
      "top": null,
      "visibility": null,
      "width": null
     }
    },
    "d0687e4b93c349fbabaa9ef29a9a64b0": {
     "model_module": "@jupyter-widgets/controls",
     "model_module_version": "1.5.0",
     "model_name": "FloatProgressModel",
     "state": {
      "_dom_classes": [],
      "_model_module": "@jupyter-widgets/controls",
      "_model_module_version": "1.5.0",
      "_model_name": "FloatProgressModel",
      "_view_count": null,
      "_view_module": "@jupyter-widgets/controls",
      "_view_module_version": "1.5.0",
      "_view_name": "ProgressView",
      "bar_style": "success",
      "description": "",
      "description_tooltip": null,
      "layout": "IPY_MODEL_6032535191c445af820ca82ad7777994",
      "max": 3,
      "min": 0,
      "orientation": "horizontal",
      "style": "IPY_MODEL_b6d4a00ef04e4b4fb3b88d30d69fbf88",
      "value": 3
     }
    },
    "d206805f170c4d0080c167f227c51957": {
     "model_module": "@jupyter-widgets/base",
     "model_module_version": "1.2.0",
     "model_name": "LayoutModel",
     "state": {
      "_model_module": "@jupyter-widgets/base",
      "_model_module_version": "1.2.0",
      "_model_name": "LayoutModel",
      "_view_count": null,
      "_view_module": "@jupyter-widgets/base",
      "_view_module_version": "1.2.0",
      "_view_name": "LayoutView",
      "align_content": null,
      "align_items": null,
      "align_self": null,
      "border": null,
      "bottom": null,
      "display": null,
      "flex": null,
      "flex_flow": null,
      "grid_area": null,
      "grid_auto_columns": null,
      "grid_auto_flow": null,
      "grid_auto_rows": null,
      "grid_column": null,
      "grid_gap": null,
      "grid_row": null,
      "grid_template_areas": null,
      "grid_template_columns": null,
      "grid_template_rows": null,
      "height": null,
      "justify_content": null,
      "justify_items": null,
      "left": null,
      "margin": null,
      "max_height": null,
      "max_width": null,
      "min_height": null,
      "min_width": null,
      "object_fit": null,
      "object_position": null,
      "order": null,
      "overflow": null,
      "overflow_x": null,
      "overflow_y": null,
      "padding": null,
      "right": null,
      "top": null,
      "visibility": null,
      "width": null
     }
    },
    "d443e79500ca43d694d780107d722bf6": {
     "model_module": "@jupyter-widgets/base",
     "model_module_version": "1.2.0",
     "model_name": "LayoutModel",
     "state": {
      "_model_module": "@jupyter-widgets/base",
      "_model_module_version": "1.2.0",
      "_model_name": "LayoutModel",
      "_view_count": null,
      "_view_module": "@jupyter-widgets/base",
      "_view_module_version": "1.2.0",
      "_view_name": "LayoutView",
      "align_content": null,
      "align_items": null,
      "align_self": null,
      "border": null,
      "bottom": null,
      "display": null,
      "flex": null,
      "flex_flow": null,
      "grid_area": null,
      "grid_auto_columns": null,
      "grid_auto_flow": null,
      "grid_auto_rows": null,
      "grid_column": null,
      "grid_gap": null,
      "grid_row": null,
      "grid_template_areas": null,
      "grid_template_columns": null,
      "grid_template_rows": null,
      "height": null,
      "justify_content": null,
      "justify_items": null,
      "left": null,
      "margin": null,
      "max_height": null,
      "max_width": null,
      "min_height": null,
      "min_width": null,
      "object_fit": null,
      "object_position": null,
      "order": null,
      "overflow": null,
      "overflow_x": null,
      "overflow_y": null,
      "padding": null,
      "right": null,
      "top": null,
      "visibility": null,
      "width": null
     }
    },
    "d923236a21dc47b1b5a9273312cf0332": {
     "model_module": "@jupyter-widgets/controls",
     "model_module_version": "1.5.0",
     "model_name": "DescriptionStyleModel",
     "state": {
      "_model_module": "@jupyter-widgets/controls",
      "_model_module_version": "1.5.0",
      "_model_name": "DescriptionStyleModel",
      "_view_count": null,
      "_view_module": "@jupyter-widgets/base",
      "_view_module_version": "1.2.0",
      "_view_name": "StyleView",
      "description_width": ""
     }
    },
    "e100e0ea738944e8ab8ec163c5ebafb9": {
     "model_module": "@jupyter-widgets/controls",
     "model_module_version": "1.5.0",
     "model_name": "DescriptionStyleModel",
     "state": {
      "_model_module": "@jupyter-widgets/controls",
      "_model_module_version": "1.5.0",
      "_model_name": "DescriptionStyleModel",
      "_view_count": null,
      "_view_module": "@jupyter-widgets/base",
      "_view_module_version": "1.2.0",
      "_view_name": "StyleView",
      "description_width": ""
     }
    },
    "e1040a864e9f4816ba5e8d8d496da0be": {
     "model_module": "@jupyter-widgets/controls",
     "model_module_version": "1.5.0",
     "model_name": "DescriptionStyleModel",
     "state": {
      "_model_module": "@jupyter-widgets/controls",
      "_model_module_version": "1.5.0",
      "_model_name": "DescriptionStyleModel",
      "_view_count": null,
      "_view_module": "@jupyter-widgets/base",
      "_view_module_version": "1.2.0",
      "_view_name": "StyleView",
      "description_width": ""
     }
    },
    "e7f0726e34664f28adc1a8134ae7c578": {
     "model_module": "@jupyter-widgets/controls",
     "model_module_version": "1.5.0",
     "model_name": "ProgressStyleModel",
     "state": {
      "_model_module": "@jupyter-widgets/controls",
      "_model_module_version": "1.5.0",
      "_model_name": "ProgressStyleModel",
      "_view_count": null,
      "_view_module": "@jupyter-widgets/base",
      "_view_module_version": "1.2.0",
      "_view_name": "StyleView",
      "bar_color": null,
      "description_width": ""
     }
    },
    "f17a686ffda147aa8afa1e9bcb2a3ba9": {
     "model_module": "@jupyter-widgets/base",
     "model_module_version": "1.2.0",
     "model_name": "LayoutModel",
     "state": {
      "_model_module": "@jupyter-widgets/base",
      "_model_module_version": "1.2.0",
      "_model_name": "LayoutModel",
      "_view_count": null,
      "_view_module": "@jupyter-widgets/base",
      "_view_module_version": "1.2.0",
      "_view_name": "LayoutView",
      "align_content": null,
      "align_items": null,
      "align_self": null,
      "border": null,
      "bottom": null,
      "display": null,
      "flex": null,
      "flex_flow": null,
      "grid_area": null,
      "grid_auto_columns": null,
      "grid_auto_flow": null,
      "grid_auto_rows": null,
      "grid_column": null,
      "grid_gap": null,
      "grid_row": null,
      "grid_template_areas": null,
      "grid_template_columns": null,
      "grid_template_rows": null,
      "height": null,
      "justify_content": null,
      "justify_items": null,
      "left": null,
      "margin": null,
      "max_height": null,
      "max_width": null,
      "min_height": null,
      "min_width": null,
      "object_fit": null,
      "object_position": null,
      "order": null,
      "overflow": null,
      "overflow_x": null,
      "overflow_y": null,
      "padding": null,
      "right": null,
      "top": null,
      "visibility": null,
      "width": null
     }
    },
    "f49db9cd3af74135803aa5969d8d1f43": {
     "model_module": "@jupyter-widgets/controls",
     "model_module_version": "1.5.0",
     "model_name": "DescriptionStyleModel",
     "state": {
      "_model_module": "@jupyter-widgets/controls",
      "_model_module_version": "1.5.0",
      "_model_name": "DescriptionStyleModel",
      "_view_count": null,
      "_view_module": "@jupyter-widgets/base",
      "_view_module_version": "1.2.0",
      "_view_name": "StyleView",
      "description_width": ""
     }
    },
    "f9fa4d6c226f440cb6898c555e704582": {
     "model_module": "@jupyter-widgets/base",
     "model_module_version": "1.2.0",
     "model_name": "LayoutModel",
     "state": {
      "_model_module": "@jupyter-widgets/base",
      "_model_module_version": "1.2.0",
      "_model_name": "LayoutModel",
      "_view_count": null,
      "_view_module": "@jupyter-widgets/base",
      "_view_module_version": "1.2.0",
      "_view_name": "LayoutView",
      "align_content": null,
      "align_items": null,
      "align_self": null,
      "border": null,
      "bottom": null,
      "display": null,
      "flex": null,
      "flex_flow": null,
      "grid_area": null,
      "grid_auto_columns": null,
      "grid_auto_flow": null,
      "grid_auto_rows": null,
      "grid_column": null,
      "grid_gap": null,
      "grid_row": null,
      "grid_template_areas": null,
      "grid_template_columns": null,
      "grid_template_rows": null,
      "height": null,
      "justify_content": null,
      "justify_items": null,
      "left": null,
      "margin": null,
      "max_height": null,
      "max_width": null,
      "min_height": null,
      "min_width": null,
      "object_fit": null,
      "object_position": null,
      "order": null,
      "overflow": null,
      "overflow_x": null,
      "overflow_y": null,
      "padding": null,
      "right": null,
      "top": null,
      "visibility": null,
      "width": null
     }
    },
    "fc08f1a8d0bb43d79767c04b2926d8f5": {
     "model_module": "@jupyter-widgets/controls",
     "model_module_version": "1.5.0",
     "model_name": "DescriptionStyleModel",
     "state": {
      "_model_module": "@jupyter-widgets/controls",
      "_model_module_version": "1.5.0",
      "_model_name": "DescriptionStyleModel",
      "_view_count": null,
      "_view_module": "@jupyter-widgets/base",
      "_view_module_version": "1.2.0",
      "_view_name": "StyleView",
      "description_width": ""
     }
    }
   }
  }
 },
 "nbformat": 4,
 "nbformat_minor": 5
}
